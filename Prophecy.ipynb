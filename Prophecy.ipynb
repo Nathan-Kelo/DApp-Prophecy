{
 "cells": [
  {
   "cell_type": "code",
   "execution_count": 50,
   "metadata": {},
   "outputs": [
    {
     "name": "stdout",
     "output_type": "stream",
     "text": [
      "The autoreload extension is already loaded. To reload it, use:\n",
      "  %reload_ext autoreload\n"
     ]
    }
   ],
   "source": [
    "# Mandatory cell for the rest of this assignment\n",
    "\n",
    "%load_ext autoreload\n",
    "%autoreload 2\n",
    "\n",
    "from sys import path\n",
    "\n",
    "path.append('./scripts')"
   ]
  },
  {
   "cell_type": "code",
   "execution_count": 51,
   "metadata": {},
   "outputs": [],
   "source": [
    "from certificate import Certificate\n",
    "from blockchain import Blockchain\n",
    "from smart_contract import SmartContractDefinition, SmartContractWritingOperation\n",
    "from network import Node\n",
    "from node import BlockchainNode\n",
    "from wallet import Wallet\n",
    "from proof_of_stake import ProofOfStake\n",
    "from block import Block\n",
    "from pebble import Account\n",
    "from time import sleep\n",
    "from helpers import timestamp"
   ]
  },
  {
   "cell_type": "markdown",
   "metadata": {},
   "source": [
    "We'll start by generating the wallets for supposedly the \"users\".\n",
    "In our case, we'll also be giving each user an account (assuming they've registrated to the betting website).\n",
    "\n",
    "The account also contains the amount of pebbles a user has."
   ]
  },
  {
   "cell_type": "code",
   "execution_count": 52,
   "metadata": {},
   "outputs": [
    {
     "name": "stdout",
     "output_type": "stream",
     "text": [
      "Bob has  20  pebbles\n",
      "John has  20  pebbles\n",
      "Alice has  20  pebbles\n",
      "Emma has  20  pebbles\n"
     ]
    }
   ],
   "source": [
    "walletNode1=Wallet()\n",
    "walletNode2=Wallet()\n",
    "walletNode3=Wallet()\n",
    "\n",
    "Bob=Wallet()\n",
    "BobAccount = Account(Bob.publicKey)\n",
    "print('Bob has ', BobAccount.pebbleAmount, ' pebbles')\n",
    "John=Wallet()\n",
    "JohnAccount = Account(John.publicKey)\n",
    "print('John has ', JohnAccount.pebbleAmount, ' pebbles')\n",
    "Alice=Wallet()\n",
    "AliceAccount = Account(Alice.publicKey)\n",
    "print('Alice has ', AliceAccount.pebbleAmount, ' pebbles')\n",
    "Emma=Wallet()\n",
    "EmmaAccount = Account(Alice.publicKey)\n",
    "print('Emma has ', EmmaAccount.pebbleAmount, ' pebbles')\n",
    "\n",
    "pos = ProofOfStake(walletNode1.publicKey)\n",
    "\n",
    "def reset_blockchain():\n",
    "    Node.reset_network()\n",
    "    global node1, node2, node3\n",
    "    node1 = BlockchainNode(walletNode1, pos)\n",
    "    node2 = BlockchainNode(walletNode2, pos)\n",
    "    node3 = BlockchainNode(walletNode3, pos)"
   ]
  },
  {
   "cell_type": "code",
   "execution_count": 53,
   "metadata": {},
   "outputs": [],
   "source": [
    "def read_text_file(fileName):\n",
    "    with open(fileName, 'r', encoding='utf-8') as f:\n",
    "        return f.read()\n",
    "    \n",
    "betFilePath=\"./scripts/bet.py\"    "
   ]
  },
  {
   "cell_type": "markdown",
   "metadata": {},
   "source": [
    "We'll start by assuming that Alice has generated a bet.\n",
    "John and Emma see the bet and want to join in."
   ]
  },
  {
   "cell_type": "code",
   "execution_count": 54,
   "metadata": {},
   "outputs": [
    {
     "name": "stdout",
     "output_type": "stream",
     "text": [
      "{'Genesis Key': '00000000', 'Genesis Index': 0}\n",
      "{'Public Key': '30820122', 'Signature': '724c9c4c', 'timestamp': 1709073278953, 'type': <class 'block.Block'>}\n",
      "{'Index': 1, 'Parent hash': 'f9e5d8b4'}\n",
      "--Block certs--\n",
      "{'Public Key': '30820122', 'Signature': 'b8d20c69', 'timestamp': 1709073274711, 'type': <class 'smart_contract.SmartContractDefinition'>}\n",
      "{'Public Key': '30820122', 'Signature': 'a1aacd50', 'timestamp': 1709073277863, 'type': <class 'smart_contract.SmartContractWritingOperation'>}\n",
      "{'Public Key': '30820122', 'Signature': 'a7fd7049', 'timestamp': 1709073275758, 'type': <class 'smart_contract.SmartContractWritingOperation'>}\n",
      "{'Public Key': '30820122', 'Signature': '00c4f179', 'timestamp': 1709073276811, 'type': <class 'smart_contract.SmartContractWritingOperation'>}\n",
      "{'Public Key': '30820122', 'Signature': '0ddb0eb4', 'timestamp': 1709073278915, 'type': <class 'smart_contract.SmartContractWritingOperation'>}\n",
      "----\n"
     ]
    }
   ],
   "source": [
    "reset_blockchain()\n",
    "\n",
    "bet1=SmartContractDefinition(Alice.publicKey,read_text_file(betFilePath))\n",
    "Alice.sign(bet1)\n",
    "node1.new_certificate(bet1)\n",
    "sleep(1)\n",
    "\n",
    "bet1_start = SmartContractWritingOperation(Alice.publicKey, bet1.hash(), 'startBet', [timestamp.now()+timestamp.now(), 'Lorum Lora', ['yes', 'no', 'maybe']])\n",
    "Alice.sign(bet1_start)\n",
    "node1.new_certificate(bet1_start)\n",
    "sleep(1)\n",
    "\n",
    "cert1 = SmartContractWritingOperation(John.publicKey, bet1.hash(), 'addBetter', [JohnAccount, 1, 1])\n",
    "John.sign(cert1)\n",
    "node1.new_certificate(cert1)\n",
    "sleep(1)\n",
    "\n",
    "cert2 = SmartContractWritingOperation(John.publicKey, bet1.hash(), 'addBetter', [JohnAccount, 1, 2])\n",
    "John.sign(cert2)\n",
    "node1.new_certificate(cert2)\n",
    "sleep(1)\n",
    "\n",
    "cert3 = SmartContractWritingOperation(John.publicKey, bet1.hash(), 'addBetter', [JohnAccount, 10, 1])\n",
    "John.sign(cert3)\n",
    "node1.new_certificate(cert3)\n",
    "sleep(1)\n",
    "\n",
    "\n",
    "cert4 = SmartContractWritingOperation(John.publicKey, bet1.hash(), 'addBetter', [JohnAccount, 1, 1])\n",
    "John.sign(cert4)\n",
    "node1.new_certificate(cert4)\n",
    "sleep(1)\n",
    "\n",
    "cert5 = SmartContractWritingOperation(Emma.publicKey, bet1.hash(), 'addBetter', [EmmaAccount, 2, 3])\n",
    "Emma.sign(cert5)\n",
    "node1.new_certificate(cert5)\n",
    "sleep(1)\n",
    "\n",
    "cert6 = SmartContractWritingOperation(Emma.publicKey, bet1.hash(), 'addBetter', [EmmaAccount, 2, 3])\n",
    "Emma.sign(cert6)\n",
    "node1.new_certificate(cert6)\n",
    "sleep(1)\n",
    "\n",
    "cert7 = SmartContractWritingOperation(John.publicKey, bet1.hash(), 'addBetter', [JohnAccount, 1, 1])\n",
    "John.sign(cert7)\n",
    "node1.new_certificate(cert7)\n",
    "sleep(1)\n",
    "\n",
    "node2.blockchain.display()\n"
   ]
  },
  {
   "cell_type": "code",
   "execution_count": 55,
   "metadata": {},
   "outputs": [
    {
     "name": "stdout",
     "output_type": "stream",
     "text": [
      "class SmartContract():\n",
      "    def __init__(self,ownerPublicKey):\n",
      "        self.ownerPublicKey=ownerPublicKey\n",
      "        self.description=None\n",
      "        self.startTime=None\n",
      "        self.closingPeriod=None\n",
      "        #dictionnary of betters with their public key, the amount staked, and the outcome they want\n",
      "        self.betters=[]\n",
      "        #list of strings for different outcomes\n",
      "        self.outcomes=[]\n",
      "        self.logs=[]\n",
      "        self.type=\"BET\"\n",
      "\n",
      "#these two functions are to be called outside blockchain only_______________    \n",
      "    def display(self,*args):\n",
      "        print(self.description)\n",
      "        for i,o in enumerate(self.outcomes):\n",
      "            print(f'Select {i+1} for {o}')\n",
      "        print(self.closingPeriod)\n",
      "        print('Current betters---------')\n",
      "        total={}\n",
      "        for b in self.betters:\n",
      "            print(f\"User {b['PublicKey'][256:264]} bet {b['Amount']} on {b['Outcome']}.\")\n",
      "            if b['Outcome'] in total.keys():\n",
      "                total[b['Outcome']]+=b['Amount']\n",
      "            else:\n",
      "                total[b['Outcome']]=b['Amount']\n",
      "        print(total)\n",
      "    \n",
      "    def logDump(self,*args):\n",
      "        for l in self.logs:\n",
      "            print(l)\n",
      "#___________________________________________________________________________\n",
      "            \n",
      "    def startBet(self, callerPublicKey,callTimestamp, closingPeriod,description,outcomes):\n",
      "        if(callerPublicKey != self.ownerPublicKey):\n",
      "            self.logs.append(f\"[ERROR] {callerPublicKey[256:264]} tried modifying contract but is not owner.\")\n",
      "            return\n",
      "        if(callTimestamp>closingPeriod):\n",
      "            self.logs.append(f\"[ERROR] closing period ends before bet starts.\")\n",
      "            return\n",
      "        if(self.closingPeriod!=None):\n",
      "            self.logs.append(f\"[ERROR] already started a bet, cannot start again.\")\n",
      "            return\n",
      "        self.closingPeriod=closingPeriod\n",
      "        self.description=description\n",
      "\n",
      "        self.outcomes=outcomes\n",
      "        self.startTime=callTimestamp\n",
      "        self.logs.append(f'[BET] Started new bet by {callerPublicKey[256:264]}.')\n",
      "        print('-----------------------------------------')\n",
      "\n",
      "    \n",
      "    def closeBet(self, callerPublicKey, callTimestamp,outcome):\n",
      "        if callerPublicKey!=self.ownerPublicKey:\n",
      "            self.logs.append(f\"[ERROR] {callerPublicKey[256:264]}\")\n",
      "        self.closingPeriod=-1\n",
      "        self.logs.append(f'[BET] Redistributing winnings...')\n",
      "        self.redistributePebbles(outcome)\n",
      "        self.logs.append(f'[BET] Redistributed winnings.')\n",
      "\n",
      "\n",
      "    def redistributePebbles(self, winningOutcome):\n",
      "        if winningOutcome < 1 or winningOutcome>len(self.outcomes):\n",
      "            self.logs.append([\"[ERROR] outcome not in list of possible outcomes.\"])\n",
      "            return\n",
      "        winningstaked=0\n",
      "        rest=0\n",
      "        for b in self.betters:\n",
      "            if b['Outcome']==self.outcomes[winningOutcome-1]:\n",
      "                winningstaked+=b['Amount']\n",
      "            else:\n",
      "                rest+=b['Amount']\n",
      "        multiplier=rest/winningstaked\n",
      "        for b in self.betters:\n",
      "            if b['Outcome']==self.outcomes[winningOutcome-1]:\n",
      "                b['Account'].addPebble(b['Amount']+b['Amount']*multiplier)\n",
      "            \n",
      "    \n",
      "\n",
      "    def addBetter(self,betterPublicKey,callTimestamp,betterAccount,amount,outcome):\n",
      "        betterPublicKey = betterAccount.issuerPublicKey\n",
      "        if amount<0:\n",
      "            self.logs.append(f'[ERROR] cannot stake negative amount.')\n",
      "        if betterAccount.pebbleAmount<amount:\n",
      "            self.logs.append(f'[ERROR] {betterPublicKey[256:264]} does not have enough pebbles.')\n",
      "            return\n",
      "        if callTimestamp>self.closingPeriod:\n",
      "            self.logs.append(f\"[ERROR] {betterPublicKey[256:264]} tried betting after closing period.\")\n",
      "            return\n",
      "        for b in self.betters:\n",
      "            if b['PublicKey']==betterPublicKey and b['Outcome']!=self.outcomes[outcome-1]:\n",
      "                self.logs.append(f'[ERROR] {betterPublicKey[256:264]} cannot bet on a different outcome.')\n",
      "                return\n",
      "            elif b['PublicKey']==betterPublicKey and b['Outcome']==self.outcomes[outcome-1]:\n",
      "                b['Amount']+=amount\n",
      "                betterAccount.removePebble(amount)\n",
      "                self.logs.append(f'[BET] {betterPublicKey[256:264]} added more to his bet.')\n",
      "                return\n",
      "        self.betters.append({'PublicKey':betterPublicKey, 'Account': betterAccount,'Amount':amount,'Outcome':self.outcomes[outcome-1]})\n",
      "        betterAccount.removePebble(amount)\n",
      "        self.logs.append(f\"[BET] Added better {betterPublicKey[256:264]}.\")\n",
      "        return\n",
      "    \n",
      "    \n"
     ]
    }
   ],
   "source": [
    "print(read_text_file(betFilePath))"
   ]
  },
  {
   "cell_type": "markdown",
   "metadata": {},
   "source": [
    "Of course, each time John or Emma bets, the amount of pebbles he has should be decreased by the amount he used on the bet.\n",
    "Since we're in a blockchain, these transactions only exist if they're in a block.\n",
    "\n",
    "If we try to check the amount each of them have, we'll see that:"
   ]
  },
  {
   "cell_type": "code",
   "execution_count": 56,
   "metadata": {},
   "outputs": [
    {
     "name": "stdout",
     "output_type": "stream",
     "text": [
      "John has  20  pebbles\n",
      "Emma has  20  pebbles\n"
     ]
    }
   ],
   "source": [
    "print('John has ', JohnAccount.pebbleAmount, ' pebbles')\n",
    "print('Emma has ', EmmaAccount.pebbleAmount, ' pebbles')"
   ]
  },
  {
   "cell_type": "markdown",
   "metadata": {},
   "source": [
    "Now let's assume Alice wants to close the bet, with the winning outcome being 'Yes' of index 1."
   ]
  },
  {
   "cell_type": "code",
   "execution_count": 57,
   "metadata": {},
   "outputs": [],
   "source": [
    "\n",
    "cert_close = SmartContractWritingOperation(Alice.publicKey, bet1.hash(), 'closeBet', [1])\n",
    "Alice.sign(cert_close)\n",
    "node1.new_certificate(cert_close)"
   ]
  },
  {
   "cell_type": "markdown",
   "metadata": {},
   "source": [
    "We have enough certs to forge a block, and by doing so, the previous transactions will be taken into consideration:"
   ]
  },
  {
   "cell_type": "code",
   "execution_count": 58,
   "metadata": {},
   "outputs": [
    {
     "name": "stdout",
     "output_type": "stream",
     "text": [
      "-----------------------------------------\n",
      "[BET] Started new bet by 6c1c7cde.\n",
      "[BET] Added better 66f58ca8.\n",
      "[ERROR] 66f58ca8 cannot bet on a different outcome.\n",
      "[BET] 66f58ca8 added more to his bet.\n",
      "[BET] 66f58ca8 added more to his bet.\n",
      "[BET] Added better 6c1c7cde.\n",
      "[BET] 6c1c7cde added more to his bet.\n",
      "[BET] 66f58ca8 added more to his bet.\n",
      "[BET] Redistributing winnings...\n",
      "[BET] Redistributed winnings.\n"
     ]
    }
   ],
   "source": [
    "SmartContractObject = SmartContractDefinition.get_smart_contract_at_current_state(node1.blockchain, bet1.hash())\n",
    "SmartContractObject.logDump()"
   ]
  },
  {
   "cell_type": "markdown",
   "metadata": {},
   "source": [
    "And now, if we check both betters' accounts:"
   ]
  },
  {
   "cell_type": "code",
   "execution_count": 59,
   "metadata": {},
   "outputs": [
    {
     "name": "stdout",
     "output_type": "stream",
     "text": [
      "John has  24.0  pebbles\n",
      "Emma has  16  pebbles\n"
     ]
    }
   ],
   "source": [
    "print('John has ', JohnAccount.pebbleAmount, ' pebbles')\n",
    "print('Emma has ',EmmaAccount.pebbleAmount, ' pebbles')"
   ]
  },
  {
   "cell_type": "markdown",
   "metadata": {},
   "source": [
    "Details concerning the blockchain:"
   ]
  },
  {
   "cell_type": "code",
   "execution_count": 10,
   "metadata": {},
   "outputs": [
    {
     "name": "stdout",
     "output_type": "stream",
     "text": [
      "--CERTBOX 0 certs--\n",
      "----\n",
      "{'Genesis Key': '00000000', 'Genesis Index': 0}\n",
      "{'Public Key': '30820122', 'Signature': '6122655c', 'timestamp': 1709072741383, 'type': <class 'block.Block'>}\n",
      "{'Index': 1, 'Parent hash': 'b7214b8d'}\n",
      "--Block certs--\n",
      "{'Public Key': '30820122', 'Signature': '37602b15', 'timestamp': 1709072741308, 'type': <class 'smart_contract.SmartContractWritingOperation'>}\n",
      "{'Public Key': '30820122', 'Signature': '5510b782', 'timestamp': 1709072741266, 'type': <class 'smart_contract.SmartContractWritingOperation'>}\n",
      "{'Public Key': '30820122', 'Signature': '0ac44df4', 'timestamp': 1709072741348, 'type': <class 'smart_contract.SmartContractWritingOperation'>}\n",
      "{'Public Key': '30820122', 'Signature': '7b9d947d', 'timestamp': 1709072740215, 'type': <class 'smart_contract.SmartContractWritingOperation'>}\n",
      "{'Public Key': '30820122', 'Signature': 'a338f5d9', 'timestamp': 1709072739172, 'type': <class 'smart_contract.SmartContractDefinition'>}\n",
      "----\n",
      "{'Public Key': '30820122', 'Signature': '65bfb975', 'timestamp': 1709072782848, 'type': <class 'block.Block'>}\n",
      "{'Index': 2, 'Parent hash': 'bfcbea78'}\n",
      "--Block certs--\n",
      "{'Public Key': '30820122', 'Signature': '0167f370', 'timestamp': 1709072741557, 'type': <class 'smart_contract.SmartContractWritingOperation'>}\n",
      "{'Public Key': '30820122', 'Signature': '626f7b79', 'timestamp': 1709072741515, 'type': <class 'smart_contract.SmartContractWritingOperation'>}\n",
      "{'Public Key': '30820122', 'Signature': '0b66f7cc', 'timestamp': 1709072741433, 'type': <class 'smart_contract.SmartContractWritingOperation'>}\n",
      "{'Public Key': '30820122', 'Signature': '4ea15b2a', 'timestamp': 1709072741474, 'type': <class 'smart_contract.SmartContractWritingOperation'>}\n",
      "{'Public Key': '30820122', 'Signature': '60154b75', 'timestamp': 1709072782812, 'type': <class 'smart_contract.SmartContractWritingOperation'>}\n",
      "----\n"
     ]
    }
   ],
   "source": [
    "node1.print_certbox()\n",
    "node1.blockchain.display()"
   ]
  },
  {
   "cell_type": "code",
   "execution_count": 11,
   "metadata": {},
   "outputs": [
    {
     "name": "stdout",
     "output_type": "stream",
     "text": [
      "-----------------------------------------\n"
     ]
    },
    {
     "data": {
      "text/plain": [
       "[{'contract_Owner': 'a0134bb8',\n",
       "  'contract_desc': 'Lorum Lora',\n",
       "  'total_mises': 17}]"
      ]
     },
     "execution_count": 11,
     "metadata": {},
     "output_type": "execute_result"
    }
   ],
   "source": [
    "bet1.find_trending_bets(node1.blockchain)"
   ]
  },
  {
   "cell_type": "markdown",
   "metadata": {},
   "source": [
    "Let's create a second bet:"
   ]
  },
  {
   "cell_type": "code",
   "execution_count": 12,
   "metadata": {},
   "outputs": [],
   "source": [
    "bet2=SmartContractDefinition(Bob.publicKey,read_text_file(betFilePath))\n",
    "Bob.sign(bet2)\n",
    "node1.new_certificate(bet2)\n",
    "sleep(1)\n",
    "\n",
    "bet2_start = SmartContractWritingOperation(Bob.publicKey, bet2.hash(), 'startBet', [timestamp.now()+timestamp.now(), 'Yankees vs Nationals', ['Win', 'Loss', 'Draw']])\n",
    "Bob.sign(bet2_start)\n",
    "node1.new_certificate(bet2_start)\n",
    "sleep(1)\n",
    "\n",
    "cert11 = SmartContractWritingOperation(John.publicKey, bet2.hash(), 'addBetter', [JohnAccount, 10, 1])\n",
    "John.sign(cert11)\n",
    "node1.new_certificate(cert11)\n",
    "\n",
    "cert22 = SmartContractWritingOperation(Emma.publicKey, bet2.hash(), 'addBetter', [JohnAccount, 5, 1])\n",
    "Emma.sign(cert22)\n",
    "node1.new_certificate(cert22)\n",
    "\n",
    "cert2_close = SmartContractWritingOperation(Bob.publicKey, bet2.hash(), 'closeBet', [1])\n",
    "Bob.sign(cert2_close)\n",
    "node1.new_certificate(cert2_close)\n"
   ]
  },
  {
   "cell_type": "code",
   "execution_count": 13,
   "metadata": {},
   "outputs": [
    {
     "name": "stdout",
     "output_type": "stream",
     "text": [
      "-----------------------------------------\n",
      "-----------------------------------------\n"
     ]
    },
    {
     "data": {
      "text/plain": [
       "[{'contract_Owner': 'a0134bb8',\n",
       "  'contract_desc': 'Lorum Lora',\n",
       "  'total_mises': 17},\n",
       " {'contract_Owner': 'a34daa55',\n",
       "  'contract_desc': 'Yankees vs Nationals',\n",
       "  'total_mises': 15}]"
      ]
     },
     "execution_count": 13,
     "metadata": {},
     "output_type": "execute_result"
    }
   ],
   "source": [
    "bet2.find_trending_bets(node1.blockchain)"
   ]
  }
 ],
 "metadata": {
  "kernelspec": {
   "display_name": "blockchain",
   "language": "python",
   "name": "python3"
  },
  "language_info": {
   "codemirror_mode": {
    "name": "ipython",
    "version": 3
   },
   "file_extension": ".py",
   "mimetype": "text/x-python",
   "name": "python",
   "nbconvert_exporter": "python",
   "pygments_lexer": "ipython3",
   "version": "3.10.13"
  }
 },
 "nbformat": 4,
 "nbformat_minor": 2
}
