{
 "cells": [
  {
   "cell_type": "code",
   "execution_count": 1,
   "metadata": {},
   "outputs": [],
   "source": [
    "# Mandatory cell for the rest of this assignment\n",
    "\n",
    "%load_ext autoreload\n",
    "%autoreload 2\n",
    "\n",
    "from sys import path\n",
    "\n",
    "path.append('./scripts')"
   ]
  },
  {
   "cell_type": "code",
   "execution_count": 2,
   "metadata": {},
   "outputs": [],
   "source": [
    "from certificate import Certificate\n",
    "from blockchain import Blockchain\n",
    "from smart_contract import SmartContractDefinition, SmartContractWritingOperation\n",
    "from network import Node\n",
    "from node import BlockchainNode\n",
    "from wallet import Wallet\n",
    "from proof_of_stake import ProofOfStake\n",
    "from block import Block\n",
    "from pebble import Account\n",
    "from time import sleep\n",
    "from helpers import timestamp"
   ]
  },
  {
   "cell_type": "markdown",
   "metadata": {},
   "source": [
    "We'll start by generating the wallets for supposedly the \"users\".\n",
    "In our case, we'll also be giving each user an account (assuming they've registrated to the betting website).\n",
    "\n",
    "The account also contains the amount of pebbles a user has."
   ]
  },
  {
   "cell_type": "code",
   "execution_count": 8,
   "metadata": {},
   "outputs": [
    {
     "name": "stdout",
     "output_type": "stream",
     "text": [
      "Bob has  20  pebbles\n",
      "John has  20  pebbles\n",
      "Alice has  20  pebbles\n",
      "Emma has  20  pebbles\n"
     ]
    }
   ],
   "source": [
    "walletNode1=Wallet()\n",
    "walletNode2=Wallet()\n",
    "walletNode3=Wallet()\n",
    "\n",
    "Bob=Wallet()\n",
    "BobAccount = Account(Bob.publicKey)\n",
    "print('Bob has ', BobAccount.pebbleAmount, ' pebbles')\n",
    "John=Wallet()\n",
    "JohnAccount = Account(John.publicKey)\n",
    "print('John has ', JohnAccount.pebbleAmount, ' pebbles')\n",
    "Alice=Wallet()\n",
    "AliceAccount = Account(Alice.publicKey)\n",
    "print('Alice has ', AliceAccount.pebbleAmount, ' pebbles')\n",
    "Emma=Wallet()\n",
    "EmmaAccount = Account(Alice.publicKey)\n",
    "print('Emma has ', EmmaAccount.pebbleAmount, ' pebbles')\n",
    "\n",
    "pos = ProofOfStake(walletNode1.publicKey)\n",
    "\n",
    "def reset_blockchain():\n",
    "    Node.reset_network()\n",
    "    global node1, node2, node3\n",
    "    node1 = BlockchainNode(walletNode1, pos)\n",
    "    node2 = BlockchainNode(walletNode2, pos)\n",
    "    node3 = BlockchainNode(walletNode3, pos)"
   ]
  },
  {
   "cell_type": "code",
   "execution_count": 4,
   "metadata": {},
   "outputs": [],
   "source": [
    "def read_text_file(fileName):\n",
    "    with open(fileName, 'r', encoding='utf-8') as f:\n",
    "        return f.read()\n",
    "    \n",
    "betFilePath=\"./scripts/bet.py\"    "
   ]
  },
  {
   "cell_type": "markdown",
   "metadata": {},
   "source": [
    "We'll start by assuming that Alice, a user, has generated a bet.\n",
    "John sees the bet and wants to join in."
   ]
  },
  {
   "cell_type": "code",
   "execution_count": 12,
   "metadata": {},
   "outputs": [
    {
     "name": "stdout",
     "output_type": "stream",
     "text": [
      "{'Genesis Key': '00000000', 'Genesis Index': 0}\n",
      "{'Public Key': '30820122', 'Signature': '31128778', 'timestamp': 1709044199972, 'type': <class 'block.Block'>}\n",
      "{'Index': 1, 'Parent hash': 'a5347700'}\n",
      "--Block certs--\n",
      "{'Public Key': '30820122', 'Signature': '36d3ce93', 'timestamp': 1709044199898, 'type': <class 'smart_contract.SmartContractWritingOperation'>}\n",
      "{'Public Key': '30820122', 'Signature': '6063de7a', 'timestamp': 1709044198805, 'type': <class 'smart_contract.SmartContractWritingOperation'>}\n",
      "{'Public Key': '30820122', 'Signature': '3a2f4fc4', 'timestamp': 1709044199938, 'type': <class 'smart_contract.SmartContractWritingOperation'>}\n",
      "{'Public Key': '30820122', 'Signature': '9525a865', 'timestamp': 1709044197764, 'type': <class 'smart_contract.SmartContractDefinition'>}\n",
      "{'Public Key': '30820122', 'Signature': '5815711d', 'timestamp': 1709044199854, 'type': <class 'smart_contract.SmartContractWritingOperation'>}\n",
      "----\n"
     ]
    }
   ],
   "source": [
    "reset_blockchain()\n",
    "\n",
    "bet1=SmartContractDefinition(Alice.publicKey,read_text_file(betFilePath))\n",
    "Alice.sign(bet1)\n",
    "node1.new_certificate(bet1)\n",
    "sleep(1)\n",
    "\n",
    "\n",
    "\n",
    "bet1_start = SmartContractWritingOperation(Alice.publicKey, bet1.hash(), 'startBet', [timestamp.now()+timestamp.now(), 'Lorum Lora', ['yes', 'no', 'maybe']])\n",
    "Alice.sign(bet1_start)\n",
    "node1.new_certificate(bet1_start)\n",
    "sleep(1)\n",
    "\n",
    "\n",
    "\n",
    "cert1 = SmartContractWritingOperation(John.publicKey, bet1.hash(), 'addBetter', [JohnAccount, 1, 1])\n",
    "John.sign(cert1)\n",
    "node1.new_certificate(cert1)\n",
    "\n",
    "\n",
    "cert2 = SmartContractWritingOperation(John.publicKey, bet1.hash(), 'addBetter', [JohnAccount, 1, 1])\n",
    "John.sign(cert2)\n",
    "node1.new_certificate(cert2)\n",
    "\n",
    "\n",
    "cert3 = SmartContractWritingOperation(John.publicKey, bet1.hash(), 'addBetter', [JohnAccount, 1, 1])\n",
    "John.sign(cert3)\n",
    "node1.new_certificate(cert3)\n",
    "\n",
    "\n",
    "cert4 = SmartContractWritingOperation(John.publicKey, bet1.hash(), 'addBetter', [JohnAccount, 1, 1])\n",
    "John.sign(cert4)\n",
    "node1.new_certificate(cert4)\n",
    "\n",
    "\n",
    "cert5 = SmartContractWritingOperation(John.publicKey, bet1.hash(), 'addBetter', [JohnAccount, 1, 1])\n",
    "John.sign(cert5)\n",
    "node1.new_certificate(cert5)\n",
    "\n",
    "cert6 = SmartContractWritingOperation(John.publicKey, bet1.hash(), 'addBetter', [JohnAccount, 1, 1])\n",
    "John.sign(cert6)\n",
    "node1.new_certificate(cert6)\n",
    "\n",
    "\n",
    "cert7 = SmartContractWritingOperation(John.publicKey, bet1.hash(), 'addBetter', [JohnAccount, 1, 1])\n",
    "John.sign(cert7)\n",
    "node1.new_certificate(cert7)\n",
    "\n",
    "node2.blockchain.display()\n"
   ]
  },
  {
   "cell_type": "code",
   "execution_count": 34,
   "metadata": {},
   "outputs": [
    {
     "name": "stdout",
     "output_type": "stream",
     "text": [
      "class SmartContract():\n",
      "    def __init__(self,ownerPublicKey):\n",
      "        self.ownerPublicKey=ownerPublicKey\n",
      "        self.description=None\n",
      "        self.startTime=None\n",
      "        self.closingPeriod=None\n",
      "        #dictionnary of betters with their public key, the amount staked, and the outcome they want\n",
      "        self.betters=[]\n",
      "        #list of strings for different outcomes\n",
      "        self.outcomes=[]\n",
      "        self.logs=[]\n",
      "        self.type=\"BET\"\n",
      "\n",
      "#these two functions are to be called outside blockchain only_______________    \n",
      "    def display(self,*args):\n",
      "        print(self.description)\n",
      "        for i,o in enumerate(self.outcomes):\n",
      "            print(f'Select {i+1} for {o}')\n",
      "        print(self.closingPeriod)\n",
      "        print('Current betters---------')\n",
      "        total={}\n",
      "        for b in self.betters:\n",
      "            print(f\"User {b['PublicKey'][256:264]} bet {b['Amount']} on {b['Outcome']}.\")\n",
      "            if b['Outcome'] in total.keys():\n",
      "                total[b['Outcome']]+=b['Amount']\n",
      "            else:\n",
      "                total[b['Outcome']]=b['Amount']\n",
      "        print(total)\n",
      "    \n",
      "    def logDump(self,*args):\n",
      "        for l in self.logs:\n",
      "            print(l)\n",
      "#___________________________________________________________________________\n",
      "            \n",
      "    def startBet(self, callerPublicKey,callTimestamp, closingPeriod,description,outcomes):\n",
      "        if(callerPublicKey != self.ownerPublicKey):\n",
      "            self.logs.append(f\"[ERROR] {callerPublicKey[256:264]} tried modifying contract but is not owner.\")\n",
      "            return\n",
      "        if(callTimestamp>closingPeriod):\n",
      "            self.logs.append(f\"[ERROR] closing period ends before bet starts.\")\n",
      "            return\n",
      "        if(self.closingPeriod!=None):\n",
      "            self.logs.append(f\"[ERROR] already started a bet, cannot start again.\")\n",
      "            return\n",
      "        self.closingPeriod=closingPeriod\n",
      "        self.description=description\n",
      "\n",
      "        self.outcomes=outcomes\n",
      "        self.startTime=callTimestamp\n",
      "        self.logs.append(f'[BET] Started new bet.')\n",
      "        print('-------------sfsfs----------------------------',closingPeriod)\n",
      "\n",
      "    \n",
      "    def closeBet(self, callerPublicKey, callTimestamp,outcome):\n",
      "        if callerPublicKey!=self.ownerPublicKey:\n",
      "            self.logs.append(f\"[ERROR] {callerPublicKey[256:264]}\")\n",
      "        self.closingPeriod=-1\n",
      "        self.logs.append(f'[BET] Redistributing winnings...')\n",
      "        self.redistributePebbles(outcome)\n",
      "        self.logs.append(f'[BET] Redistributed winnings.')\n",
      "\n",
      "\n",
      "    def redistributePebbles(self, winningOutcome):\n",
      "        if winningOutcome < 1 or winningOutcome>len(self.outcomes):\n",
      "            self.logs.append([\"[ERROR] outcome not in list of possible outcomes.\"])\n",
      "            return\n",
      "        winningstaked=0\n",
      "        rest=0\n",
      "        for b in self.betters:\n",
      "            if b['Outcome']==self.outcomes[winningOutcome-1]:\n",
      "                winningstaked+=b['Amount']\n",
      "            else:\n",
      "                rest+=b['Amount']\n",
      "        multiplier=rest/winningstaked\n",
      "        for b in self.betters:\n",
      "            b['Account'].addPebble(b['Amount'] + b['Amount']*multiplier)\n",
      "            pass\n",
      "    \n",
      "\n",
      "    def addBetter(self,betterPublicKey,callTimestamp,betterAccount,amount,outcome):\n",
      "        betterPublicKey = betterAccount.issuerPublicKey\n",
      "        if amount<0:\n",
      "            self.logs.append(f'[ERROR] cannot stake negative amount.')\n",
      "        if betterAccount.pebbleAmount<amount:\n",
      "            self.logs.append(f'[ERROR] {betterPublicKey[256:264]} does not have enough pebbles.')\n",
      "            return\n",
      "        if callTimestamp>self.closingPeriod:\n",
      "            self.logs.append(f\"[ERROR] {betterPublicKey[256:264]} tried betting after closing period.\")\n",
      "            return\n",
      "        for b in self.betters:\n",
      "            if b['PublicKey']==betterPublicKey and b['Outcome']!=self.outcomes[outcome-1]:\n",
      "                self.logs.append(f'[ERROR] {betterPublicKey[256:264]} cannot bet on a different outcome.')\n",
      "                return\n",
      "            elif b['PublicKey']==betterPublicKey and b['Outcome']==self.outcomes[outcome-1]:\n",
      "                b['Amount']+=amount\n",
      "                betterAccount.removePebble(amount)\n",
      "                print(betterAccount.pebbleAmount)\n",
      "                self.logs.append(f'[BET] {betterPublicKey[256:264]} added more to his bet.')\n",
      "                return\n",
      "        self.betters.append({'PublicKey':betterPublicKey, 'Account': betterAccount,'Amount':amount,'Outcome':self.outcomes[outcome-1]})\n",
      "        betterAccount.removePebble(amount)\n",
      "        print(betterAccount.pebbleAmount)\n",
      "        self.logs.append(f\"[BET] Added better {betterPublicKey[256:264]}.\")\n",
      "        return\n"
     ]
    }
   ],
   "source": [
    "print(read_text_file(betFilePath))"
   ]
  },
  {
   "cell_type": "markdown",
   "metadata": {},
   "source": [
    "Of course, each time John bets, the amount of pebbles he has should be decreased by the amount he used on the bet."
   ]
  },
  {
   "cell_type": "code",
   "execution_count": 6,
   "metadata": {},
   "outputs": [
    {
     "name": "stdout",
     "output_type": "stream",
     "text": [
      "John has  20  pebbles\n"
     ]
    }
   ],
   "source": [
    "print('John has ', JohnAccount.pebbleAmount, ' pebbles')"
   ]
  },
  {
   "cell_type": "code",
   "execution_count": 7,
   "metadata": {},
   "outputs": [
    {
     "name": "stdout",
     "output_type": "stream",
     "text": [
      "[node 3082.8da5.0001] Adding\n",
      "{'Public Key': '30820122', 'Signature': '1755ab84', 'timestamp': 1709043503782, 'type': <class 'smart_contract.SmartContractWritingOperation'>}\n",
      "[node 3082.8da5.0001] I am sending the data \"<block.Block object at 0x0000024E3FBFFBB0>\" to EVERYBODY!\n",
      "[node 3082.8da5.0001] I am sending the data \"<block.Block object at 0x0000024E3FBFFBB0>\" to \"node 3082.5cd1.0001\"\n",
      "[node 3082.5cd1.0001] I am sending the data \"<block.Block object at 0x0000024E3FBFFBB0>\" to EVERYBODY!\n",
      "[node 3082.5cd1.0001] I am sending the data \"<block.Block object at 0x0000024E3FBFFBB0>\" to \"node 3082.8da5.0001\"\n",
      "[node 3082.8da5.0001] \"node 3082.5cd1.0001\" sent me a new a new block\n",
      "[node 3082.5cd1.0001] I am sending the data \"<block.Block object at 0x0000024E3FBFFBB0>\" to \"node 3082.e7f2.0001\"\n",
      "[node 3082.e7f2.0001] I am sending the data \"<block.Block object at 0x0000024E3FBFFBB0>\" to EVERYBODY!\n",
      "[node 3082.e7f2.0001] I am sending the data \"<block.Block object at 0x0000024E3FBFFBB0>\" to \"node 3082.8da5.0001\"\n",
      "[node 3082.8da5.0001] \"node 3082.e7f2.0001\" sent me a new a new block\n",
      "[node 3082.e7f2.0001] I am sending the data \"<block.Block object at 0x0000024E3FBFFBB0>\" to \"node 3082.5cd1.0001\"\n",
      "[node 3082.5cd1.0001] \"node 3082.e7f2.0001\" sent me a new a new block\n",
      "[node 3082.e7f2.0001] \"node 3082.5cd1.0001\" sent me a new a new block\n",
      "[node 3082.5cd1.0001] \"node 3082.8da5.0001\" sent me a new a new block\n",
      "[node 3082.8da5.0001] I am sending the data \"<block.Block object at 0x0000024E3FBFFBB0>\" to \"node 3082.e7f2.0001\"\n",
      "[node 3082.e7f2.0001] \"node 3082.8da5.0001\" sent me a new a new block\n",
      "[node 3082.8da5.0001] I am sending the data \"<block.Block object at 0x0000024E3FBFFBB0>\" to EVERYBODY!\n",
      "[node 3082.8da5.0001] I am sending the data \"<block.Block object at 0x0000024E3FBFFBB0>\" to \"node 3082.5cd1.0001\"\n",
      "[node 3082.5cd1.0001] \"node 3082.8da5.0001\" sent me a new a new block\n",
      "[node 3082.8da5.0001] I am sending the data \"<block.Block object at 0x0000024E3FBFFBB0>\" to \"node 3082.e7f2.0001\"\n",
      "[node 3082.e7f2.0001] \"node 3082.8da5.0001\" sent me a new a new block\n",
      "[<smart_contract.SmartContractDefinition object at 0x0000024E3FBE7F70>, <smart_contract.SmartContractWritingOperation object at 0x0000024E3E8914B0>, <smart_contract.SmartContractWritingOperation object at 0x0000024E3E890B80>, <smart_contract.SmartContractWritingOperation object at 0x0000024E3E731C30>, <smart_contract.SmartContractWritingOperation object at 0x0000024E3E732230>, <smart_contract.SmartContractWritingOperation object at 0x0000024E3FC0AC20>, <smart_contract.SmartContractWritingOperation object at 0x0000024E3FC0AB60>, <smart_contract.SmartContractWritingOperation object at 0x0000024E3FC096C0>, <smart_contract.SmartContractWritingOperation object at 0x0000024E3FC08580>, <smart_contract.SmartContractWritingOperation object at 0x0000024E3FBFF730>]\n",
      "-------------sfsfs---------------------------- 3418086839566\n",
      "[BET] Started new bet.\n",
      "[BET] Added better e76c3b14.\n",
      "[BET] e76c3b14 added more to his bet.\n",
      "[BET] e76c3b14 added more to his bet.\n",
      "[BET] e76c3b14 added more to his bet.\n",
      "[BET] e76c3b14 added more to his bet.\n",
      "[BET] e76c3b14 added more to his bet.\n",
      "[BET] e76c3b14 added more to his bet.\n",
      "[BET] Redistributing winnings...\n",
      "[BET] Redistributed winnings.\n",
      "Lorum Lora\n",
      "Select 1 for yes\n",
      "Select 2 for no\n",
      "Select 3 for maybe\n",
      "-1\n",
      "Current betters---------\n",
      "User e76c3b14 bet 7 on yes.\n",
      "{'yes': 7}\n"
     ]
    }
   ],
   "source": [
    "\n",
    "cert_close = SmartContractWritingOperation(Alice.publicKey, bet1.hash(), 'closeBet', [1])\n",
    "Alice.sign(cert_close)\n",
    "node1.new_certificate(cert_close)\n",
    "\n",
    "SmartContractObject = SmartContractDefinition.get_smart_contract_at_current_state(node1.blockchain, bet1.hash())\n",
    "SmartContractObject.logDump()\n",
    "\n",
    "SmartContractObject.display()"
   ]
  },
  {
   "cell_type": "code",
   "execution_count": 19,
   "metadata": {},
   "outputs": [
    {
     "name": "stdout",
     "output_type": "stream",
     "text": [
      "John has  17  pebbles\n"
     ]
    }
   ],
   "source": [
    "print('John has ', JohnAccount.pebbleAmount, ' pebbles')"
   ]
  },
  {
   "cell_type": "code",
   "execution_count": 20,
   "metadata": {},
   "outputs": [
    {
     "name": "stdout",
     "output_type": "stream",
     "text": [
      "--CERTBOX 4 certs--\n",
      "{'Public Key': '30820122', 'Signature': '9aa518f5', 'timestamp': 1709040312418, 'type': <class 'smart_contract.SmartContractWritingOperation'>}\n",
      "{'Public Key': '30820122', 'Signature': '1203745f', 'timestamp': 1709040312495, 'type': <class 'smart_contract.SmartContractWritingOperation'>}\n",
      "{'Public Key': '30820122', 'Signature': '06cc226c', 'timestamp': 1709040312532, 'type': <class 'smart_contract.SmartContractWritingOperation'>}\n",
      "{'Public Key': '30820122', 'Signature': '80fc268f', 'timestamp': 1709040312457, 'type': <class 'smart_contract.SmartContractWritingOperation'>}\n",
      "----\n",
      "{'Genesis Key': '00000000', 'Genesis Index': 0}\n",
      "{'Public Key': '30820122', 'Signature': '85db2e0f', 'timestamp': 1709040312374, 'type': <class 'block.Block'>}\n",
      "{'Index': 1, 'Parent hash': 'e2d14cf4'}\n",
      "--Block certs--\n",
      "{'Public Key': '30820122', 'Signature': 'a04151f1', 'timestamp': 1709040312264, 'type': <class 'smart_contract.SmartContractWritingOperation'>}\n",
      "{'Public Key': '30820122', 'Signature': '5c9f258e', 'timestamp': 1709040311214, 'type': <class 'smart_contract.SmartContractWritingOperation'>}\n",
      "{'Public Key': '30820122', 'Signature': '15fd17a0', 'timestamp': 1709040312342, 'type': <class 'smart_contract.SmartContractWritingOperation'>}\n",
      "{'Public Key': '30820122', 'Signature': '41cd9c78', 'timestamp': 1709040310175, 'type': <class 'smart_contract.SmartContractDefinition'>}\n",
      "{'Public Key': '30820122', 'Signature': '197c61f3', 'timestamp': 1709040312305, 'type': <class 'smart_contract.SmartContractWritingOperation'>}\n",
      "----\n"
     ]
    }
   ],
   "source": [
    "node1.print_certbox()\n",
    "node1.blockchain.display()"
   ]
  }
 ],
 "metadata": {
  "kernelspec": {
   "display_name": "blockchain",
   "language": "python",
   "name": "python3"
  },
  "language_info": {
   "codemirror_mode": {
    "name": "ipython",
    "version": 3
   },
   "file_extension": ".py",
   "mimetype": "text/x-python",
   "name": "python",
   "nbconvert_exporter": "python",
   "pygments_lexer": "ipython3",
   "version": "3.10.13"
  }
 },
 "nbformat": 4,
 "nbformat_minor": 2
}
