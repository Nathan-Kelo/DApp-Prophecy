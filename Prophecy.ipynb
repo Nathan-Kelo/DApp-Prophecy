{
 "cells": [
  {
   "cell_type": "code",
   "execution_count": 1,
   "metadata": {},
   "outputs": [],
   "source": [
    "# Mandatory cell for the rest of this assignment\n",
    "\n",
    "%load_ext autoreload\n",
    "%autoreload 2\n",
    "\n",
    "from sys import path\n",
    "\n",
    "path.append('./scripts')"
   ]
  },
  {
   "cell_type": "code",
   "execution_count": 2,
   "metadata": {},
   "outputs": [],
   "source": [
    "from certificate import Certificate\n",
    "from blockchain import Blockchain\n",
    "from smart_contract import SmartContractDefinition, SmartContractWritingOperation\n",
    "from network import Node\n",
    "from node import BlockchainNode\n",
    "from wallet import Wallet\n",
    "from proof_of_stake import ProofOfStake\n",
    "from block import Block\n",
    "from pebble import Account\n",
    "from time import sleep\n",
    "from helpers import timestamp"
   ]
  },
  {
   "cell_type": "markdown",
   "metadata": {},
   "source": [
    "We'll start by generating the wallets for supposedly the \"users\".\n",
    "In our case, we'll also be giving each user an account (assuming they've registrated to the betting website).\n",
    "\n",
    "The account also contains the amount of pebbles a user has."
   ]
  },
  {
   "cell_type": "code",
   "execution_count": 8,
   "metadata": {},
   "outputs": [
    {
     "name": "stdout",
     "output_type": "stream",
     "text": [
      "Bob has  20  pebbles\n",
      "John has  20  pebbles\n",
      "Alice has  20  pebbles\n",
      "Emma has  20  pebbles\n"
     ]
    }
   ],
   "source": [
    "walletNode1=Wallet()\n",
    "walletNode2=Wallet()\n",
    "walletNode3=Wallet()\n",
    "\n",
    "Bob=Wallet()\n",
    "BobAccount = Account(Bob.publicKey)\n",
    "print('Bob has ', BobAccount.pebbleAmount, ' pebbles')\n",
    "John=Wallet()\n",
    "JohnAccount = Account(John.publicKey)\n",
    "print('John has ', JohnAccount.pebbleAmount, ' pebbles')\n",
    "Alice=Wallet()\n",
    "AliceAccount = Account(Alice.publicKey)\n",
    "print('Alice has ', AliceAccount.pebbleAmount, ' pebbles')\n",
    "Emma=Wallet()\n",
    "EmmaAccount = Account(Alice.publicKey)\n",
    "print('Emma has ', EmmaAccount.pebbleAmount, ' pebbles')\n",
    "\n",
    "pos = ProofOfStake(walletNode1.publicKey)\n",
    "\n",
    "def reset_blockchain():\n",
    "    Node.reset_network()\n",
    "    global node1, node2, node3\n",
    "    node1 = BlockchainNode(walletNode1, pos)\n",
    "    node2 = BlockchainNode(walletNode2, pos)\n",
    "    node3 = BlockchainNode(walletNode3, pos)"
   ]
  },
  {
   "cell_type": "code",
   "execution_count": 4,
   "metadata": {},
   "outputs": [],
   "source": [
    "def read_text_file(fileName):\n",
    "    with open(fileName, 'r', encoding='utf-8') as f:\n",
    "        return f.read()\n",
    "    \n",
    "betFilePath=\"./scripts/bet.py\"    "
   ]
  },
  {
   "cell_type": "markdown",
   "metadata": {},
   "source": [
    "We'll start by assuming that Alice has generated a bet.\n",
    "John and Emma see the bet and want to join in."
   ]
  },
  {
   "cell_type": "code",
   "execution_count": 12,
   "metadata": {},
   "outputs": [
    {
     "name": "stdout",
     "output_type": "stream",
     "text": [
      "{'Genesis Key': '00000000', 'Genesis Index': 0}\n",
      "{'Public Key': '30820122', 'Signature': '31128778', 'timestamp': 1709044199972, 'type': <class 'block.Block'>}\n",
      "{'Index': 1, 'Parent hash': 'a5347700'}\n",
      "--Block certs--\n",
      "{'Public Key': '30820122', 'Signature': '36d3ce93', 'timestamp': 1709044199898, 'type': <class 'smart_contract.SmartContractWritingOperation'>}\n",
      "{'Public Key': '30820122', 'Signature': '6063de7a', 'timestamp': 1709044198805, 'type': <class 'smart_contract.SmartContractWritingOperation'>}\n",
      "{'Public Key': '30820122', 'Signature': '3a2f4fc4', 'timestamp': 1709044199938, 'type': <class 'smart_contract.SmartContractWritingOperation'>}\n",
      "{'Public Key': '30820122', 'Signature': '9525a865', 'timestamp': 1709044197764, 'type': <class 'smart_contract.SmartContractDefinition'>}\n",
      "{'Public Key': '30820122', 'Signature': '5815711d', 'timestamp': 1709044199854, 'type': <class 'smart_contract.SmartContractWritingOperation'>}\n",
      "----\n"
     ]
    }
   ],
   "source": [
    "reset_blockchain()\n",
    "\n",
    "bet1=SmartContractDefinition(Alice.publicKey,read_text_file(betFilePath))\n",
    "Alice.sign(bet1)\n",
    "node1.new_certificate(bet1)\n",
    "sleep(1)\n",
    "\n",
    "bet1_start = SmartContractWritingOperation(Alice.publicKey, bet1.hash(), 'startBet', [timestamp.now()+timestamp.now(), 'Lorum Lora', ['yes', 'no', 'maybe']])\n",
    "Alice.sign(bet1_start)\n",
    "node1.new_certificate(bet1_start)\n",
    "sleep(1)\n",
    "\n",
    "cert1 = SmartContractWritingOperation(John.publicKey, bet1.hash(), 'addBetter', [JohnAccount, 1, 1])\n",
    "John.sign(cert1)\n",
    "node1.new_certificate(cert1)\n",
    "\n",
    "cert2 = SmartContractWritingOperation(John.publicKey, bet1.hash(), 'addBetter', [JohnAccount, 1, 2])\n",
    "John.sign(cert2)\n",
    "node1.new_certificate(cert2)\n",
    "\n",
    "cert3 = SmartContractWritingOperation(John.publicKey, bet1.hash(), 'addBetter', [JohnAccount, 10, 1])\n",
    "John.sign(cert3)\n",
    "node1.new_certificate(cert3)\n",
    "\n",
    "\n",
    "cert4 = SmartContractWritingOperation(John.publicKey, bet1.hash(), 'addBetter', [JohnAccount, 1, 1])\n",
    "John.sign(cert4)\n",
    "node1.new_certificate(cert4)\n",
    "\n",
    "cert5 = SmartContractWritingOperation(Emma.publicKey, bet1.hash(), 'addBetter', [EmmaAccount, 2, 3])\n",
    "Emma.sign(cert5)\n",
    "node1.new_certificate(cert5)\n",
    "\n",
    "cert6 = SmartContractWritingOperation(Emma.publicKey, bet1.hash(), 'addBetter', [EmmaAccount, 2, 3])\n",
    "Emma.sign(cert6)\n",
    "node1.new_certificate(cert6)\n",
    "\n",
    "cert7 = SmartContractWritingOperation(John.publicKey, bet1.hash(), 'addBetter', [JohnAccount, 1, 1])\n",
    "John.sign(cert7)\n",
    "node1.new_certificate(cert7)\n",
    "\n",
    "node2.blockchain.display()\n"
   ]
  },
  {
   "cell_type": "code",
   "execution_count": 95,
   "metadata": {},
   "outputs": [
    {
     "name": "stdout",
     "output_type": "stream",
     "text": [
      "class SmartContract():\n",
      "    def __init__(self,ownerPublicKey):\n",
      "        self.ownerPublicKey=ownerPublicKey\n",
      "        self.description=None\n",
      "        self.startTime=None\n",
      "        self.closingPeriod=None\n",
      "        #dictionnary of betters with their public key, the amount staked, and the outcome they want\n",
      "        self.betters=[]\n",
      "        #list of strings for different outcomes\n",
      "        self.outcomes=[]\n",
      "        self.logs=[]\n",
      "        self.type=\"BET\"\n",
      "\n",
      "#these two functions are to be called outside blockchain only_______________    \n",
      "    def display(self,*args):\n",
      "        print(self.description)\n",
      "        for i,o in enumerate(self.outcomes):\n",
      "            print(f'Select {i+1} for {o}')\n",
      "        print(self.closingPeriod)\n",
      "        print('Current betters---------')\n",
      "        total={}\n",
      "        for b in self.betters:\n",
      "            print(f\"User {b['PublicKey'][256:264]} bet {b['Amount']} on {b['Outcome']}.\")\n",
      "            if b['Outcome'] in total.keys():\n",
      "                total[b['Outcome']]+=b['Amount']\n",
      "            else:\n",
      "                total[b['Outcome']]=b['Amount']\n",
      "        print(total)\n",
      "    \n",
      "    def logDump(self,*args):\n",
      "        for l in self.logs:\n",
      "            print(l)\n",
      "#___________________________________________________________________________\n",
      "            \n",
      "    def startBet(self, callerPublicKey,callTimestamp, closingPeriod,description,outcomes):\n",
      "        if(callerPublicKey != self.ownerPublicKey):\n",
      "            self.logs.append(f\"[ERROR] {callerPublicKey[256:264]} tried modifying contract but is not owner.\")\n",
      "            return\n",
      "        if(callTimestamp>closingPeriod):\n",
      "            self.logs.append(f\"[ERROR] closing period ends before bet starts.\")\n",
      "            return\n",
      "        if(self.closingPeriod!=None):\n",
      "            self.logs.append(f\"[ERROR] already started a bet, cannot start again.\")\n",
      "            return\n",
      "        self.closingPeriod=closingPeriod\n",
      "        self.description=description\n",
      "\n",
      "        self.outcomes=outcomes\n",
      "        self.startTime=callTimestamp\n",
      "        self.logs.append(f'[BET] Started new bet by {callerPublicKey[256:264]}.')\n",
      "        print('-----------------------------------------')\n",
      "\n",
      "    \n",
      "    def closeBet(self, callerPublicKey, callTimestamp,outcome):\n",
      "        if callerPublicKey!=self.ownerPublicKey:\n",
      "            self.logs.append(f\"[ERROR] {callerPublicKey[256:264]}\")\n",
      "        self.closingPeriod=-1\n",
      "        self.logs.append(f'[BET] Redistributing winnings...')\n",
      "        self.redistributePebbles(outcome)\n",
      "        self.logs.append(f'[BET] Redistributed winnings.')\n",
      "\n",
      "\n",
      "    def redistributePebbles(self, winningOutcome):\n",
      "        if winningOutcome < 1 or winningOutcome>len(self.outcomes):\n",
      "            self.logs.append([\"[ERROR] outcome not in list of possible outcomes.\"])\n",
      "            return\n",
      "        winningstaked=0\n",
      "        rest=0\n",
      "        for b in self.betters:\n",
      "            if b['Outcome']==self.outcomes[winningOutcome-1]:\n",
      "                winningstaked+=b['Amount']\n",
      "            else:\n",
      "                rest+=b['Amount']\n",
      "        multiplier=rest/winningstaked\n",
      "        for b in self.betters:\n",
      "            if b['Outcome']==self.outcomes[winningOutcome-1]:\n",
      "                b['Account'].addPebble(b['Amount']+b['Amount']*multiplier)\n",
      "            \n",
      "    \n",
      "\n",
      "    def addBetter(self,betterPublicKey,callTimestamp,betterAccount,amount,outcome):\n",
      "        betterPublicKey = betterAccount.issuerPublicKey\n",
      "        if amount<0:\n",
      "            self.logs.append(f'[ERROR] cannot stake negative amount.')\n",
      "        if betterAccount.pebbleAmount<amount:\n",
      "            self.logs.append(f'[ERROR] {betterPublicKey[256:264]} does not have enough pebbles.')\n",
      "            return\n",
      "        if callTimestamp>self.closingPeriod:\n",
      "            self.logs.append(f\"[ERROR] {betterPublicKey[256:264]} tried betting after closing period.\")\n",
      "            return\n",
      "        for b in self.betters:\n",
      "            if b['PublicKey']==betterPublicKey and b['Outcome']!=self.outcomes[outcome-1]:\n",
      "                self.logs.append(f'[ERROR] {betterPublicKey[256:264]} cannot bet on a different outcome.')\n",
      "                return\n",
      "            elif b['PublicKey']==betterPublicKey and b['Outcome']==self.outcomes[outcome-1]:\n",
      "                b['Amount']+=amount\n",
      "                betterAccount.removePebble(amount)\n",
      "                self.logs.append(f'[BET] {betterPublicKey[256:264]} added more to his bet.')\n",
      "                return\n",
      "        self.betters.append({'PublicKey':betterPublicKey, 'Account': betterAccount,'Amount':amount,'Outcome':self.outcomes[outcome-1]})\n",
      "        betterAccount.removePebble(amount)\n",
      "        self.logs.append(f\"[BET] Added better {betterPublicKey[256:264]}.\")\n",
      "        return\n",
      "    \n",
      "    \n"
     ]
    }
   ],
   "source": [
    "print(read_text_file(betFilePath))"
   ]
  },
  {
   "cell_type": "markdown",
   "metadata": {},
   "source": [
    "Of course, each time John or Emma bets, the amount of pebbles he has should be decreased by the amount he used on the bet.\n",
    "Since we're in a blockchain, these transactions only exist if they're in a block.\n",
    "\n",
    "If we try to check the amount each of them have, we'll see that:"
   ]
  },
  {
   "cell_type": "code",
   "execution_count": 6,
   "metadata": {},
   "outputs": [
    {
     "name": "stdout",
     "output_type": "stream",
     "text": [
      "John has  20  pebbles\n",
      "Emma has  20  pebbles\n"
     ]
    }
   ],
   "source": [
    "print('John has ', JohnAccount.pebbleAmount, ' pebbles')\n",
    "print('Emma has ', EmmaAccount.pebbleAmount, ' pebbles')"
   ]
  },
  {
   "cell_type": "markdown",
   "metadata": {},
   "source": [
    "Now let's assume Alice wants to close the bet, with the winning outcome being 'Yes' of index 1."
   ]
  },
  {
   "cell_type": "code",
   "execution_count": 7,
   "metadata": {},
   "outputs": [
    {
     "name": "stdout",
     "output_type": "stream",
     "text": [
      "[node 3082.0d22.0001] Adding\n",
      "{'Public Key': '30820122', 'Signature': '0ebbfddd', 'timestamp': 1709063175683, 'type': <class 'smart_contract.SmartContractWritingOperation'>}\n",
      "[node 3082.0d22.0001] I am sending the data \"<block.Block object at 0x0000021564EDC850>\" to EVERYBODY!\n",
      "[node 3082.0d22.0001] I am sending the data \"<block.Block object at 0x0000021564EDC850>\" to \"node 3082.dd42.0001\"\n",
      "[node 3082.dd42.0001] I am sending the data \"<block.Block object at 0x0000021564EDC850>\" to EVERYBODY!\n",
      "[node 3082.dd42.0001] I am sending the data \"<block.Block object at 0x0000021564EDC850>\" to \"node 3082.0d22.0001\"\n",
      "[node 3082.0d22.0001] \"node 3082.dd42.0001\" sent me a new a new block\n",
      "[node 3082.dd42.0001] I am sending the data \"<block.Block object at 0x0000021564EDC850>\" to \"node 3082.62f5.0001\"\n",
      "[node 3082.62f5.0001] I am sending the data \"<block.Block object at 0x0000021564EDC850>\" to EVERYBODY!\n",
      "[node 3082.62f5.0001] I am sending the data \"<block.Block object at 0x0000021564EDC850>\" to \"node 3082.0d22.0001\"\n",
      "[node 3082.0d22.0001] \"node 3082.62f5.0001\" sent me a new a new block\n",
      "[node 3082.62f5.0001] I am sending the data \"<block.Block object at 0x0000021564EDC850>\" to \"node 3082.dd42.0001\"\n",
      "[node 3082.dd42.0001] \"node 3082.62f5.0001\" sent me a new a new block\n",
      "[node 3082.62f5.0001] \"node 3082.dd42.0001\" sent me a new a new block\n",
      "[node 3082.dd42.0001] \"node 3082.0d22.0001\" sent me a new a new block\n",
      "[node 3082.0d22.0001] I am sending the data \"<block.Block object at 0x0000021564EDC850>\" to \"node 3082.62f5.0001\"\n",
      "[node 3082.62f5.0001] \"node 3082.0d22.0001\" sent me a new a new block\n",
      "[node 3082.0d22.0001] I am sending the data \"<block.Block object at 0x0000021564EDC850>\" to EVERYBODY!\n",
      "[node 3082.0d22.0001] I am sending the data \"<block.Block object at 0x0000021564EDC850>\" to \"node 3082.dd42.0001\"\n",
      "[node 3082.dd42.0001] \"node 3082.0d22.0001\" sent me a new a new block\n",
      "[node 3082.0d22.0001] I am sending the data \"<block.Block object at 0x0000021564EDC850>\" to \"node 3082.62f5.0001\"\n",
      "[node 3082.62f5.0001] \"node 3082.0d22.0001\" sent me a new a new block\n"
     ]
    }
   ],
   "source": [
    "\n",
    "cert_close = SmartContractWritingOperation(Alice.publicKey, bet1.hash(), 'closeBet', [1])\n",
    "Alice.sign(cert_close)\n",
    "node1.new_certificate(cert_close)"
   ]
  },
  {
   "cell_type": "markdown",
   "metadata": {},
   "source": [
    "We have enough certs to forge a block, and by doing so, the previous transactions will be taken into consideration:"
   ]
  },
  {
   "cell_type": "code",
   "execution_count": 98,
   "metadata": {},
   "outputs": [
    {
     "name": "stdout",
     "output_type": "stream",
     "text": [
      "[<smart_contract.SmartContractDefinition object at 0x0000021564DB7CD0>, <smart_contract.SmartContractWritingOperation object at 0x0000021564EF9390>, <smart_contract.SmartContractWritingOperation object at 0x0000021564F76E50>, <smart_contract.SmartContractWritingOperation object at 0x0000021564E9DF10>, <smart_contract.SmartContractWritingOperation object at 0x0000021564F0D490>, <smart_contract.SmartContractWritingOperation object at 0x0000021564EDE150>, <smart_contract.SmartContractWritingOperation object at 0x0000021560FC1210>, <smart_contract.SmartContractWritingOperation object at 0x0000021564F66C90>, <smart_contract.SmartContractWritingOperation object at 0x0000021564EBF650>, <smart_contract.SmartContractWritingOperation object at 0x0000021564E8C490>]\n",
      "-----------------------------------------\n",
      "[BET] Started new bet by 213a3fee.\n",
      "[BET] Added better 9baf769d.\n",
      "[ERROR] 9baf769d cannot bet on a different outcome.\n",
      "[BET] 9baf769d added more to his bet.\n",
      "[BET] 9baf769d added more to his bet.\n",
      "[BET] Added better 213a3fee.\n",
      "[BET] 213a3fee added more to his bet.\n",
      "[BET] 9baf769d added more to his bet.\n",
      "[BET] Redistributing winnings...\n",
      "[BET] Redistributed winnings.\n"
     ]
    }
   ],
   "source": [
    "SmartContractObject = SmartContractDefinition.get_smart_contract_at_current_state(node1.blockchain, bet1.hash())\n",
    "SmartContractObject.logDump()"
   ]
  },
  {
   "cell_type": "markdown",
   "metadata": {},
   "source": [
    "And now, if we check both betters' accounts:"
   ]
  },
  {
   "cell_type": "code",
   "execution_count": 99,
   "metadata": {},
   "outputs": [
    {
     "name": "stdout",
     "output_type": "stream",
     "text": [
      "John has  24.0  pebbles\n",
      "Emma has  16  pebbles\n"
     ]
    }
   ],
   "source": [
    "print('John has ', JohnAccount.pebbleAmount, ' pebbles')\n",
    "print('Emma has ',EmmaAccount.pebbleAmount, ' pebbles')"
   ]
  },
  {
   "cell_type": "markdown",
   "metadata": {},
   "source": [
    "Details concerning the blockchain:"
   ]
  },
  {
   "cell_type": "code",
   "execution_count": 100,
   "metadata": {},
   "outputs": [
    {
     "name": "stdout",
     "output_type": "stream",
     "text": [
      "--CERTBOX 0 certs--\n",
      "----\n",
      "{'Genesis Key': '00000000', 'Genesis Index': 0}\n",
      "{'Public Key': '30820122', 'Signature': 'ac4e79f3', 'timestamp': 1709063175355, 'type': <class 'block.Block'>}\n",
      "{'Index': 1, 'Parent hash': '51c0743c'}\n",
      "--Block certs--\n",
      "{'Public Key': '30820122', 'Signature': '33fe6720', 'timestamp': 1709063175224, 'type': <class 'smart_contract.SmartContractWritingOperation'>}\n",
      "{'Public Key': '30820122', 'Signature': '2e462e97', 'timestamp': 1709063175284, 'type': <class 'smart_contract.SmartContractWritingOperation'>}\n",
      "{'Public Key': '30820122', 'Signature': '0e6a7cb6', 'timestamp': 1709063173119, 'type': <class 'smart_contract.SmartContractDefinition'>}\n",
      "{'Public Key': '30820122', 'Signature': '2afe1f2b', 'timestamp': 1709063174164, 'type': <class 'smart_contract.SmartContractWritingOperation'>}\n",
      "{'Public Key': '30820122', 'Signature': '6dce191e', 'timestamp': 1709063175322, 'type': <class 'smart_contract.SmartContractWritingOperation'>}\n",
      "----\n",
      "{'Public Key': '30820122', 'Signature': '297e81bd', 'timestamp': 1709063175725, 'type': <class 'block.Block'>}\n",
      "{'Index': 2, 'Parent hash': 'a526d8aa'}\n",
      "--Block certs--\n",
      "{'Public Key': '30820122', 'Signature': '61b75707', 'timestamp': 1709063175477, 'type': <class 'smart_contract.SmartContractWritingOperation'>}\n",
      "{'Public Key': '30820122', 'Signature': '75ee4641', 'timestamp': 1709063175401, 'type': <class 'smart_contract.SmartContractWritingOperation'>}\n",
      "{'Public Key': '30820122', 'Signature': '820e985e', 'timestamp': 1709063175438, 'type': <class 'smart_contract.SmartContractWritingOperation'>}\n",
      "{'Public Key': '30820122', 'Signature': 'a6b0da1b', 'timestamp': 1709063175517, 'type': <class 'smart_contract.SmartContractWritingOperation'>}\n",
      "{'Public Key': '30820122', 'Signature': '0ebbfddd', 'timestamp': 1709063175683, 'type': <class 'smart_contract.SmartContractWritingOperation'>}\n",
      "----\n"
     ]
    }
   ],
   "source": [
    "node1.print_certbox()\n",
    "node1.blockchain.display()"
   ]
  },
  {
   "cell_type": "code",
   "execution_count": 101,
   "metadata": {},
   "outputs": [
    {
     "name": "stdout",
     "output_type": "stream",
     "text": [
      "[<smart_contract.SmartContractDefinition object at 0x0000021564DB7CD0>, <smart_contract.SmartContractWritingOperation object at 0x0000021564EF9390>, <smart_contract.SmartContractWritingOperation object at 0x0000021564F76E50>, <smart_contract.SmartContractWritingOperation object at 0x0000021564E9DF10>, <smart_contract.SmartContractWritingOperation object at 0x0000021564F0D490>, <smart_contract.SmartContractWritingOperation object at 0x0000021564EDE150>, <smart_contract.SmartContractWritingOperation object at 0x0000021560FC1210>, <smart_contract.SmartContractWritingOperation object at 0x0000021564F66C90>, <smart_contract.SmartContractWritingOperation object at 0x0000021564EBF650>, <smart_contract.SmartContractWritingOperation object at 0x0000021564E8C490>]\n",
      "-----------------------------------------\n"
     ]
    },
    {
     "data": {
      "text/plain": [
       "[{'contract_Owner': '213a3fee',\n",
       "  'contract_desc': 'Lorum Lora',\n",
       "  'total_mises': 17}]"
      ]
     },
     "execution_count": 101,
     "metadata": {},
     "output_type": "execute_result"
    }
   ],
   "source": [
    "bet1.find_trending_bets(node1.blockchain)"
   ]
  },
  {
   "cell_type": "markdown",
   "metadata": {},
   "source": [
    "Let's create a second bet:"
   ]
  },
  {
   "cell_type": "code",
   "execution_count": 102,
   "metadata": {},
   "outputs": [
    {
     "name": "stdout",
     "output_type": "stream",
     "text": [
      "[node 3082.0d22.0001] Adding\n",
      "{'Public Key': '30820122', 'Signature': '4acdf108', 'timestamp': 1709063176074, 'type': <class 'smart_contract.SmartContractDefinition'>}\n",
      "[node 3082.0d22.0001] I am sending the data \"<smart_contract.SmartContractDefinition object at 0x0000021564F42C90>\" to EVERYBODY!\n",
      "[node 3082.0d22.0001] I am sending the data \"<smart_contract.SmartContractDefinition object at 0x0000021564F42C90>\" to \"node 3082.dd42.0001\"\n",
      "[node 3082.dd42.0001] Adding\n",
      "{'Public Key': '30820122', 'Signature': '4acdf108', 'timestamp': 1709063176074, 'type': <class 'smart_contract.SmartContractDefinition'>}\n",
      "[node 3082.dd42.0001] I am sending the data \"<smart_contract.SmartContractDefinition object at 0x0000021564F42C90>\" to EVERYBODY!\n",
      "[node 3082.dd42.0001] I am sending the data \"<smart_contract.SmartContractDefinition object at 0x0000021564F42C90>\" to \"node 3082.0d22.0001\"\n",
      "[node 3082.0d22.0001] .......................3\n",
      "{'Public Key': '30820122', 'Signature': '4acdf108', 'timestamp': 1709063176074, 'type': <class 'smart_contract.SmartContractDefinition'>}\n",
      "[node 3082.0d22.0001] \"node 3082.dd42.0001\" sent me a certificate\n",
      "[node 3082.dd42.0001] I am sending the data \"<smart_contract.SmartContractDefinition object at 0x0000021564F42C90>\" to \"node 3082.62f5.0001\"\n",
      "[node 3082.62f5.0001] Adding\n",
      "{'Public Key': '30820122', 'Signature': '4acdf108', 'timestamp': 1709063176074, 'type': <class 'smart_contract.SmartContractDefinition'>}\n",
      "[node 3082.62f5.0001] I am sending the data \"<smart_contract.SmartContractDefinition object at 0x0000021564F42C90>\" to EVERYBODY!\n",
      "[node 3082.62f5.0001] I am sending the data \"<smart_contract.SmartContractDefinition object at 0x0000021564F42C90>\" to \"node 3082.0d22.0001\"\n",
      "[node 3082.0d22.0001] .......................3\n",
      "{'Public Key': '30820122', 'Signature': '4acdf108', 'timestamp': 1709063176074, 'type': <class 'smart_contract.SmartContractDefinition'>}\n",
      "[node 3082.0d22.0001] \"node 3082.62f5.0001\" sent me a certificate\n",
      "[node 3082.62f5.0001] I am sending the data \"<smart_contract.SmartContractDefinition object at 0x0000021564F42C90>\" to \"node 3082.dd42.0001\"\n",
      "[node 3082.dd42.0001] .......................3\n",
      "{'Public Key': '30820122', 'Signature': '4acdf108', 'timestamp': 1709063176074, 'type': <class 'smart_contract.SmartContractDefinition'>}\n",
      "[node 3082.dd42.0001] \"node 3082.62f5.0001\" sent me a certificate\n",
      "[node 3082.62f5.0001] \"node 3082.dd42.0001\" sent me a certificate\n",
      "[node 3082.dd42.0001] \"node 3082.0d22.0001\" sent me a certificate\n",
      "[node 3082.0d22.0001] I am sending the data \"<smart_contract.SmartContractDefinition object at 0x0000021564F42C90>\" to \"node 3082.62f5.0001\"\n",
      "[node 3082.62f5.0001] .......................3\n",
      "{'Public Key': '30820122', 'Signature': '4acdf108', 'timestamp': 1709063176074, 'type': <class 'smart_contract.SmartContractDefinition'>}\n",
      "[node 3082.62f5.0001] \"node 3082.0d22.0001\" sent me a certificate\n",
      "[node 3082.0d22.0001] Adding\n",
      "{'Public Key': '30820122', 'Signature': '607b8846', 'timestamp': 1709063177122, 'type': <class 'smart_contract.SmartContractWritingOperation'>}\n",
      "[node 3082.0d22.0001] I am sending the data \"<smart_contract.SmartContractWritingOperation object at 0x0000021564EC7390>\" to EVERYBODY!\n",
      "[node 3082.0d22.0001] I am sending the data \"<smart_contract.SmartContractWritingOperation object at 0x0000021564EC7390>\" to \"node 3082.dd42.0001\"\n",
      "[node 3082.dd42.0001] Adding\n",
      "{'Public Key': '30820122', 'Signature': '607b8846', 'timestamp': 1709063177122, 'type': <class 'smart_contract.SmartContractWritingOperation'>}\n",
      "[node 3082.dd42.0001] I am sending the data \"<smart_contract.SmartContractWritingOperation object at 0x0000021564EC7390>\" to EVERYBODY!\n",
      "[node 3082.dd42.0001] I am sending the data \"<smart_contract.SmartContractWritingOperation object at 0x0000021564EC7390>\" to \"node 3082.0d22.0001\"\n",
      "[node 3082.0d22.0001] .......................3\n",
      "{'Public Key': '30820122', 'Signature': '607b8846', 'timestamp': 1709063177122, 'type': <class 'smart_contract.SmartContractWritingOperation'>}\n",
      "[node 3082.0d22.0001] \"node 3082.dd42.0001\" sent me a certificate\n",
      "[node 3082.dd42.0001] I am sending the data \"<smart_contract.SmartContractWritingOperation object at 0x0000021564EC7390>\" to \"node 3082.62f5.0001\"\n",
      "[node 3082.62f5.0001] Adding\n",
      "{'Public Key': '30820122', 'Signature': '607b8846', 'timestamp': 1709063177122, 'type': <class 'smart_contract.SmartContractWritingOperation'>}\n",
      "[node 3082.62f5.0001] I am sending the data \"<smart_contract.SmartContractWritingOperation object at 0x0000021564EC7390>\" to EVERYBODY!\n",
      "[node 3082.62f5.0001] I am sending the data \"<smart_contract.SmartContractWritingOperation object at 0x0000021564EC7390>\" to \"node 3082.0d22.0001\"\n",
      "[node 3082.0d22.0001] .......................3\n",
      "{'Public Key': '30820122', 'Signature': '607b8846', 'timestamp': 1709063177122, 'type': <class 'smart_contract.SmartContractWritingOperation'>}\n",
      "[node 3082.0d22.0001] \"node 3082.62f5.0001\" sent me a certificate\n",
      "[node 3082.62f5.0001] I am sending the data \"<smart_contract.SmartContractWritingOperation object at 0x0000021564EC7390>\" to \"node 3082.dd42.0001\"\n",
      "[node 3082.dd42.0001] .......................3\n",
      "{'Public Key': '30820122', 'Signature': '607b8846', 'timestamp': 1709063177122, 'type': <class 'smart_contract.SmartContractWritingOperation'>}\n",
      "[node 3082.dd42.0001] \"node 3082.62f5.0001\" sent me a certificate\n",
      "[node 3082.62f5.0001] \"node 3082.dd42.0001\" sent me a certificate\n",
      "[node 3082.dd42.0001] \"node 3082.0d22.0001\" sent me a certificate\n",
      "[node 3082.0d22.0001] I am sending the data \"<smart_contract.SmartContractWritingOperation object at 0x0000021564EC7390>\" to \"node 3082.62f5.0001\"\n",
      "[node 3082.62f5.0001] .......................3\n",
      "{'Public Key': '30820122', 'Signature': '607b8846', 'timestamp': 1709063177122, 'type': <class 'smart_contract.SmartContractWritingOperation'>}\n",
      "[node 3082.62f5.0001] \"node 3082.0d22.0001\" sent me a certificate\n",
      "[node 3082.0d22.0001] Adding\n",
      "{'Public Key': '30820122', 'Signature': '883ba7df', 'timestamp': 1709063178168, 'type': <class 'smart_contract.SmartContractWritingOperation'>}\n",
      "[node 3082.0d22.0001] I am sending the data \"<smart_contract.SmartContractWritingOperation object at 0x0000021564EF9710>\" to EVERYBODY!\n",
      "[node 3082.0d22.0001] I am sending the data \"<smart_contract.SmartContractWritingOperation object at 0x0000021564EF9710>\" to \"node 3082.dd42.0001\"\n",
      "[node 3082.dd42.0001] Adding\n",
      "{'Public Key': '30820122', 'Signature': '883ba7df', 'timestamp': 1709063178168, 'type': <class 'smart_contract.SmartContractWritingOperation'>}\n",
      "[node 3082.dd42.0001] I am sending the data \"<smart_contract.SmartContractWritingOperation object at 0x0000021564EF9710>\" to EVERYBODY!\n",
      "[node 3082.dd42.0001] I am sending the data \"<smart_contract.SmartContractWritingOperation object at 0x0000021564EF9710>\" to \"node 3082.0d22.0001\"\n",
      "[node 3082.0d22.0001] .......................3\n",
      "{'Public Key': '30820122', 'Signature': '883ba7df', 'timestamp': 1709063178168, 'type': <class 'smart_contract.SmartContractWritingOperation'>}\n",
      "[node 3082.0d22.0001] \"node 3082.dd42.0001\" sent me a certificate\n",
      "[node 3082.dd42.0001] I am sending the data \"<smart_contract.SmartContractWritingOperation object at 0x0000021564EF9710>\" to \"node 3082.62f5.0001\"\n",
      "[node 3082.62f5.0001] Adding\n",
      "{'Public Key': '30820122', 'Signature': '883ba7df', 'timestamp': 1709063178168, 'type': <class 'smart_contract.SmartContractWritingOperation'>}\n",
      "[node 3082.62f5.0001] I am sending the data \"<smart_contract.SmartContractWritingOperation object at 0x0000021564EF9710>\" to EVERYBODY!\n",
      "[node 3082.62f5.0001] I am sending the data \"<smart_contract.SmartContractWritingOperation object at 0x0000021564EF9710>\" to \"node 3082.0d22.0001\"\n",
      "[node 3082.0d22.0001] .......................3\n",
      "{'Public Key': '30820122', 'Signature': '883ba7df', 'timestamp': 1709063178168, 'type': <class 'smart_contract.SmartContractWritingOperation'>}\n",
      "[node 3082.0d22.0001] \"node 3082.62f5.0001\" sent me a certificate\n",
      "[node 3082.62f5.0001] I am sending the data \"<smart_contract.SmartContractWritingOperation object at 0x0000021564EF9710>\" to \"node 3082.dd42.0001\"\n",
      "[node 3082.dd42.0001] .......................3\n",
      "{'Public Key': '30820122', 'Signature': '883ba7df', 'timestamp': 1709063178168, 'type': <class 'smart_contract.SmartContractWritingOperation'>}\n",
      "[node 3082.dd42.0001] \"node 3082.62f5.0001\" sent me a certificate\n",
      "[node 3082.62f5.0001] \"node 3082.dd42.0001\" sent me a certificate\n",
      "[node 3082.dd42.0001] \"node 3082.0d22.0001\" sent me a certificate\n",
      "[node 3082.0d22.0001] I am sending the data \"<smart_contract.SmartContractWritingOperation object at 0x0000021564EF9710>\" to \"node 3082.62f5.0001\"\n",
      "[node 3082.62f5.0001] .......................3\n",
      "{'Public Key': '30820122', 'Signature': '883ba7df', 'timestamp': 1709063178168, 'type': <class 'smart_contract.SmartContractWritingOperation'>}\n",
      "[node 3082.62f5.0001] \"node 3082.0d22.0001\" sent me a certificate\n",
      "[node 3082.0d22.0001] Adding\n",
      "{'Public Key': '30820122', 'Signature': '2e3c1b17', 'timestamp': 1709063178216, 'type': <class 'smart_contract.SmartContractWritingOperation'>}\n",
      "[node 3082.0d22.0001] I am sending the data \"<smart_contract.SmartContractWritingOperation object at 0x0000021564F428D0>\" to EVERYBODY!\n",
      "[node 3082.0d22.0001] I am sending the data \"<smart_contract.SmartContractWritingOperation object at 0x0000021564F428D0>\" to \"node 3082.dd42.0001\"\n",
      "[node 3082.dd42.0001] Adding\n",
      "{'Public Key': '30820122', 'Signature': '2e3c1b17', 'timestamp': 1709063178216, 'type': <class 'smart_contract.SmartContractWritingOperation'>}\n",
      "[node 3082.dd42.0001] I am sending the data \"<smart_contract.SmartContractWritingOperation object at 0x0000021564F428D0>\" to EVERYBODY!\n",
      "[node 3082.dd42.0001] I am sending the data \"<smart_contract.SmartContractWritingOperation object at 0x0000021564F428D0>\" to \"node 3082.0d22.0001\"\n",
      "[node 3082.0d22.0001] .......................3\n",
      "{'Public Key': '30820122', 'Signature': '2e3c1b17', 'timestamp': 1709063178216, 'type': <class 'smart_contract.SmartContractWritingOperation'>}\n",
      "[node 3082.0d22.0001] \"node 3082.dd42.0001\" sent me a certificate\n",
      "[node 3082.dd42.0001] I am sending the data \"<smart_contract.SmartContractWritingOperation object at 0x0000021564F428D0>\" to \"node 3082.62f5.0001\"\n",
      "[node 3082.62f5.0001] Adding\n",
      "{'Public Key': '30820122', 'Signature': '2e3c1b17', 'timestamp': 1709063178216, 'type': <class 'smart_contract.SmartContractWritingOperation'>}\n",
      "[node 3082.62f5.0001] I am sending the data \"<smart_contract.SmartContractWritingOperation object at 0x0000021564F428D0>\" to EVERYBODY!\n",
      "[node 3082.62f5.0001] I am sending the data \"<smart_contract.SmartContractWritingOperation object at 0x0000021564F428D0>\" to \"node 3082.0d22.0001\"\n",
      "[node 3082.0d22.0001] .......................3\n",
      "{'Public Key': '30820122', 'Signature': '2e3c1b17', 'timestamp': 1709063178216, 'type': <class 'smart_contract.SmartContractWritingOperation'>}\n",
      "[node 3082.0d22.0001] \"node 3082.62f5.0001\" sent me a certificate\n",
      "[node 3082.62f5.0001] I am sending the data \"<smart_contract.SmartContractWritingOperation object at 0x0000021564F428D0>\" to \"node 3082.dd42.0001\"\n",
      "[node 3082.dd42.0001] .......................3\n",
      "{'Public Key': '30820122', 'Signature': '2e3c1b17', 'timestamp': 1709063178216, 'type': <class 'smart_contract.SmartContractWritingOperation'>}\n",
      "[node 3082.dd42.0001] \"node 3082.62f5.0001\" sent me a certificate\n",
      "[node 3082.62f5.0001] \"node 3082.dd42.0001\" sent me a certificate\n",
      "[node 3082.dd42.0001] \"node 3082.0d22.0001\" sent me a certificate\n",
      "[node 3082.0d22.0001] I am sending the data \"<smart_contract.SmartContractWritingOperation object at 0x0000021564F428D0>\" to \"node 3082.62f5.0001\"\n",
      "[node 3082.62f5.0001] .......................3\n",
      "{'Public Key': '30820122', 'Signature': '2e3c1b17', 'timestamp': 1709063178216, 'type': <class 'smart_contract.SmartContractWritingOperation'>}\n",
      "[node 3082.62f5.0001] \"node 3082.0d22.0001\" sent me a certificate\n",
      "[node 3082.0d22.0001] Adding\n",
      "{'Public Key': '30820122', 'Signature': '9c0c82be', 'timestamp': 1709063178254, 'type': <class 'smart_contract.SmartContractWritingOperation'>}\n",
      "[node 3082.0d22.0001] I am sending the data \"<block.Block object at 0x0000021564F24F10>\" to EVERYBODY!\n",
      "[node 3082.0d22.0001] I am sending the data \"<block.Block object at 0x0000021564F24F10>\" to \"node 3082.dd42.0001\"\n",
      "[node 3082.dd42.0001] I am sending the data \"<block.Block object at 0x0000021564F24F10>\" to EVERYBODY!\n",
      "[node 3082.dd42.0001] I am sending the data \"<block.Block object at 0x0000021564F24F10>\" to \"node 3082.0d22.0001\"\n",
      "[node 3082.0d22.0001] \"node 3082.dd42.0001\" sent me a new a new block\n",
      "[node 3082.dd42.0001] I am sending the data \"<block.Block object at 0x0000021564F24F10>\" to \"node 3082.62f5.0001\"\n",
      "[node 3082.62f5.0001] I am sending the data \"<block.Block object at 0x0000021564F24F10>\" to EVERYBODY!\n",
      "[node 3082.62f5.0001] I am sending the data \"<block.Block object at 0x0000021564F24F10>\" to \"node 3082.0d22.0001\"\n",
      "[node 3082.0d22.0001] \"node 3082.62f5.0001\" sent me a new a new block\n",
      "[node 3082.62f5.0001] I am sending the data \"<block.Block object at 0x0000021564F24F10>\" to \"node 3082.dd42.0001\"\n",
      "[node 3082.dd42.0001] \"node 3082.62f5.0001\" sent me a new a new block\n",
      "[node 3082.62f5.0001] \"node 3082.dd42.0001\" sent me a new a new block\n",
      "[node 3082.dd42.0001] \"node 3082.0d22.0001\" sent me a new a new block\n",
      "[node 3082.0d22.0001] I am sending the data \"<block.Block object at 0x0000021564F24F10>\" to \"node 3082.62f5.0001\"\n",
      "[node 3082.62f5.0001] \"node 3082.0d22.0001\" sent me a new a new block\n",
      "[node 3082.0d22.0001] I am sending the data \"<block.Block object at 0x0000021564F24F10>\" to EVERYBODY!\n",
      "[node 3082.0d22.0001] I am sending the data \"<block.Block object at 0x0000021564F24F10>\" to \"node 3082.dd42.0001\"\n",
      "[node 3082.dd42.0001] \"node 3082.0d22.0001\" sent me a new a new block\n",
      "[node 3082.0d22.0001] I am sending the data \"<block.Block object at 0x0000021564F24F10>\" to \"node 3082.62f5.0001\"\n",
      "[node 3082.62f5.0001] \"node 3082.0d22.0001\" sent me a new a new block\n"
     ]
    }
   ],
   "source": [
    "bet2=SmartContractDefinition(Bob.publicKey,read_text_file(betFilePath))\n",
    "Bob.sign(bet2)\n",
    "node1.new_certificate(bet2)\n",
    "sleep(1)\n",
    "\n",
    "bet2_start = SmartContractWritingOperation(Bob.publicKey, bet2.hash(), 'startBet', [timestamp.now()+timestamp.now(), 'Yankees vs Nationals', ['Win', 'Loss', 'Draw']])\n",
    "Bob.sign(bet2_start)\n",
    "node1.new_certificate(bet2_start)\n",
    "sleep(1)\n",
    "\n",
    "cert11 = SmartContractWritingOperation(John.publicKey, bet2.hash(), 'addBetter', [JohnAccount, 10, 1])\n",
    "John.sign(cert11)\n",
    "node1.new_certificate(cert11)\n",
    "\n",
    "cert22 = SmartContractWritingOperation(Emma.publicKey, bet2.hash(), 'addBetter', [JohnAccount, 5, 1])\n",
    "Emma.sign(cert22)\n",
    "node1.new_certificate(cert22)\n",
    "\n",
    "cert2_close = SmartContractWritingOperation(Bob.publicKey, bet2.hash(), 'closeBet', [1])\n",
    "Bob.sign(cert2_close)\n",
    "node1.new_certificate(cert2_close)\n"
   ]
  },
  {
   "cell_type": "code",
   "execution_count": 103,
   "metadata": {},
   "outputs": [
    {
     "name": "stdout",
     "output_type": "stream",
     "text": [
      "[<smart_contract.SmartContractDefinition object at 0x0000021564DB7CD0>, <smart_contract.SmartContractWritingOperation object at 0x0000021564EF9390>, <smart_contract.SmartContractWritingOperation object at 0x0000021564F76E50>, <smart_contract.SmartContractWritingOperation object at 0x0000021564E9DF10>, <smart_contract.SmartContractWritingOperation object at 0x0000021564F0D490>, <smart_contract.SmartContractWritingOperation object at 0x0000021564EDE150>, <smart_contract.SmartContractWritingOperation object at 0x0000021560FC1210>, <smart_contract.SmartContractWritingOperation object at 0x0000021564F66C90>, <smart_contract.SmartContractWritingOperation object at 0x0000021564EBF650>, <smart_contract.SmartContractWritingOperation object at 0x0000021564E8C490>]\n",
      "-----------------------------------------\n",
      "[<smart_contract.SmartContractDefinition object at 0x0000021564F42C90>, <smart_contract.SmartContractWritingOperation object at 0x0000021564EC7390>, <smart_contract.SmartContractWritingOperation object at 0x0000021564EF9710>, <smart_contract.SmartContractWritingOperation object at 0x0000021564F428D0>, <smart_contract.SmartContractWritingOperation object at 0x0000021563D54510>]\n",
      "-----------------------------------------\n"
     ]
    },
    {
     "data": {
      "text/plain": [
       "[{'contract_Owner': '213a3fee',\n",
       "  'contract_desc': 'Lorum Lora',\n",
       "  'total_mises': 17},\n",
       " {'contract_Owner': '7f754275',\n",
       "  'contract_desc': 'Yankees vs Nationals',\n",
       "  'total_mises': 15}]"
      ]
     },
     "execution_count": 103,
     "metadata": {},
     "output_type": "execute_result"
    }
   ],
   "source": [
    "bet2.find_trending_bets(node1.blockchain)"
   ]
  }
 ],
 "metadata": {
  "kernelspec": {
   "display_name": "blockchain",
   "language": "python",
   "name": "python3"
  },
  "language_info": {
   "codemirror_mode": {
    "name": "ipython",
    "version": 3
   },
   "file_extension": ".py",
   "mimetype": "text/x-python",
   "name": "python",
   "nbconvert_exporter": "python",
   "pygments_lexer": "ipython3",
   "version": "0.0.0"
  }
 },
 "nbformat": 4,
 "nbformat_minor": 2
}
