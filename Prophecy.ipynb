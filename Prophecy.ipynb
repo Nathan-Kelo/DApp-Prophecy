{
 "cells": [
  {
   "cell_type": "code",
   "execution_count": 8,
   "metadata": {},
   "outputs": [
    {
     "name": "stdout",
     "output_type": "stream",
     "text": [
      "The autoreload extension is already loaded. To reload it, use:\n",
      "  %reload_ext autoreload\n"
     ]
    }
   ],
   "source": [
    "# Mandatory cell for the rest of this assignment\n",
    "\n",
    "%load_ext autoreload\n",
    "%autoreload 2\n",
    "\n",
    "from sys import path\n",
    "\n",
    "path.append('../scripts')"
   ]
  },
  {
   "cell_type": "code",
   "execution_count": 9,
   "metadata": {},
   "outputs": [],
   "source": [
    "from certificate import Certificate\n",
    "from blockchain import Blockchain\n",
    "from smart_contract import SmartContractDefinition,SmartContractWritingOperation\n",
    "from network import Node\n",
    "from node import BlockchainNode\n",
    "from wallet import Wallet\n",
    "from proof_of_stake import ProofOfStake\n",
    "from block import Block\n",
    "\n",
    "walletNode1=Wallet()\n",
    "walletNode2=Wallet()\n",
    "walletNode3=Wallet()\n",
    "\n",
    "Bob=Wallet()\n",
    "John=Wallet()\n",
    "Alice=Wallet()\n",
    "Emma=Wallet()\n",
    "\n",
    "pos = ProofOfStake(walletNode1.publicKey)\n",
    "\n",
    "def reset_blockchain():\n",
    "    Node.reset_network()\n",
    "    global node1, node2, node3\n",
    "    node1 = BlockchainNode(walletNode1, pos)\n",
    "    node2 = BlockchainNode(walletNode2, pos)\n",
    "    node3 = BlockchainNode(walletNode3, pos)"
   ]
  },
  {
   "cell_type": "code",
   "execution_count": 18,
   "metadata": {},
   "outputs": [],
   "source": [
    "def read_text_file(fileName):\n",
    "    with open(fileName, 'r', encoding='utf-8') as f:\n",
    "        return f.read()\n",
    "    \n",
    "betFilePath=\"./scripts/bet.py\"    \n"
   ]
  },
  {
   "cell_type": "markdown",
   "metadata": {},
   "source": [
    "For testing we will work on the contract through the instantiate function for ease of use. However, for the showcase in class, we must use the ContractWritingOperation and set it all up in the blockchain.\n",
    "\n",
    "In this example below, we showcase multiple bets going on at once."
   ]
  },
  {
   "cell_type": "code",
   "execution_count": 19,
   "metadata": {},
   "outputs": [
    {
     "name": "stdout",
     "output_type": "stream",
     "text": [
      "Lorum Lora\n",
      "Select 1 for yes\n",
      "Select 2 for no\n",
      "Select 3 for maybe\n",
      "5\n",
      "Current betters---------\n",
      "{}\n",
      "Arnoe Uytlel\n",
      "Select 1 for yes\n",
      "Select 2 for no\n",
      "Select 3 for maybe\n",
      "5\n",
      "Current betters---------\n",
      "{}\n"
     ]
    }
   ],
   "source": [
    "bet1=SmartContractDefinition(Alice.publicKey,read_text_file(betFilePath))\n",
    "Alice.sign(bet1)\n",
    "\n",
    "bet2=SmartContractDefinition(Emma.publicKey,read_text_file(betFilePath))\n",
    "Emma.sign(bet2)\n",
    "\n",
    "\n",
    "\n",
    "contract1=bet1.instantiate_contract()\n",
    "contract2=bet2.instantiate_contract()\n",
    "\n",
    "contract1.startBet(Alice.publicKey,1,5,\"Lorum Lora\",[\"yes\",\"no\",\"maybe\"])\n",
    "contract2.startBet(Emma.publicKey,1,5,\"Arnoe Uytlel\",[\"yes\",\"no\",\"maybe\"])\n",
    "\n",
    "contract1.display()\n",
    "\n",
    "contract2.display()"
   ]
  },
  {
   "cell_type": "code",
   "execution_count": 20,
   "metadata": {},
   "outputs": [
    {
     "name": "stdout",
     "output_type": "stream",
     "text": [
      "class SmartContract():\n",
      "    def __init__(self,ownerPublicKey):\n",
      "        self.ownerPublicKey=ownerPublicKey\n",
      "        self.description=None\n",
      "        self.startTime=None\n",
      "        self.closingPeriod=None\n",
      "        #dictionnary of betters with their public key, the amount staked, and the outcome they want\n",
      "        self.betters=[]\n",
      "        #list of strings for different outcomes\n",
      "        self.outcomes=[]\n",
      "        self.logs=[]\n",
      "        self.type=\"BET\"\n",
      "\n",
      "#these two functions are to be called outside blockchain only_______________    \n",
      "    def display(self,*args):\n",
      "        print(self.description)\n",
      "        for i,o in enumerate(self.outcomes):\n",
      "            print(f'Select {i+1} for {o}')\n",
      "        print(self.closingPeriod)\n",
      "        print('Current betters---------')\n",
      "        total={}\n",
      "        for b in self.betters:\n",
      "            print(f\"User {b['PublicKey'][256:264]} bet {b['Amount']} on {b['Outcome']}.\")\n",
      "            if b['Outcome'] in total.keys():\n",
      "                total[b['Outcome']]+=b['Amount']\n",
      "            else:\n",
      "                total[b['Outcome']]=b['Amount']\n",
      "        print(total)\n",
      "    \n",
      "    def logDump(self,*args):\n",
      "        for l in self.logs:\n",
      "            print(l)\n",
      "#___________________________________________________________________________\n",
      "            \n",
      "    def startBet(self,callerPublicKey,callTimestamp,closingPeriod,description,outcomes):\n",
      "        if(callerPublicKey != self.ownerPublicKey):\n",
      "            self.logs.append(f\"[ERROR] {callerPublicKey[256:264]} tried modifying contract but is not owner.\")\n",
      "            return\n",
      "        if(callTimestamp>closingPeriod):\n",
      "            self.logs.append(f\"[ERROR] closing period ends before bet starts.\")\n",
      "            return\n",
      "        if(self.closingPeriod!=None):\n",
      "            self.logs.append(f\"[ERROR] already started a bet, cannot start again.\")\n",
      "            return\n",
      "        self.closingPeriod=closingPeriod\n",
      "        self.description=description\n",
      "        self.outcomes=outcomes\n",
      "        self.startTime=callTimestamp\n",
      "        self.logs.append(f'[BET] Started new bet.')\n",
      "\n",
      "    \n",
      "    def closeBet(self,callerPublicKey,callTimestamp,outcome):\n",
      "        if callerPublicKey!=self.ownerPublicKey:\n",
      "            self.logs.append(f\"[ERROR] {callerPublicKey[256:264]}\")\n",
      "        self.closingPeriod=-1\n",
      "        self.logs.append(f'[BET] Redistributing winnings...')\n",
      "        self.redistributePebbles(outcome)\n",
      "        self.logs.append(f'[BET] Redistribed winnings.')\n",
      "\n",
      "\n",
      "    def redistributePebbles(self,winningOutcome):\n",
      "        if winningOutcome < 1 or winningOutcome>len(self.outcomes):\n",
      "            self.logs.append([\"[ERROR] outcome not in list of possible outcomes.\"])\n",
      "            return\n",
      "        winningstaked=0\n",
      "        rest=0\n",
      "        for b in self.betters:\n",
      "            if b['Outcome']==self.outcomes[winningOutcome-1]:\n",
      "                winningstaked+=b['Amount']\n",
      "            else:\n",
      "                rest+=b['Amount']\n",
      "        multiplier=rest/winningstaked\n",
      "        for b in self.betters:\n",
      "            pass\n",
      "    \n",
      "\n",
      "    def addBetter(self,betterPublicKey,callTimestamp,amount,outcome):\n",
      "        #TODO, check if better has money to stake\n",
      "        if amount<0:\n",
      "            self.logs.append(f'[ERROR] cannot stake negative amount.')\n",
      "        if callTimestamp>self.closingPeriod:\n",
      "            self.logs.append(f\"[ERROR] {betterPublicKey[256:264]} tried betting after closing period.\")\n",
      "            return\n",
      "        for b in self.betters:\n",
      "            if b['PublicKey']==betterPublicKey and b['Outcome']!=self.outcomes[outcome-1]:\n",
      "                self.logs.append(f'[ERROR] {betterPublicKey[256:264]} cannot bet on a different outcome.')\n",
      "                return\n",
      "            elif b['PublicKey']==betterPublicKey and b['Outcome']==self.outcomes[outcome-1]:\n",
      "                b['Amount']+=amount\n",
      "                self.logs.append(f'[BET] {betterPublicKey[256:264]} added more to his bet.')\n",
      "                return\n",
      "        self.betters.append({'PublicKey':betterPublicKey,'Amount':amount,'Outcome':self.outcomes[outcome-1]})\n",
      "        self.logs.append(f\"[BET] Added better {betterPublicKey[256:264]}.\")\n",
      "        return\n"
     ]
    }
   ],
   "source": [
    "print(read_text_file(betFilePath))"
   ]
  },
  {
   "cell_type": "markdown",
   "metadata": {},
   "source": [
    "A solution to the timestamp issue in SmartContract will be to use the SmartCOntractWritingOperation wrapper to pass a timestamp everytime it calls a function."
   ]
  },
  {
   "cell_type": "code",
   "execution_count": 14,
   "metadata": {},
   "outputs": [
    {
     "ename": "TypeError",
     "evalue": "SmartContract.addBetter() missing 1 required positional argument: 'outcome'",
     "output_type": "error",
     "traceback": [
      "\u001b[1;31m---------------------------------------------------------------------------\u001b[0m",
      "\u001b[1;31mTypeError\u001b[0m                                 Traceback (most recent call last)",
      "Cell \u001b[1;32mIn[14], line 1\u001b[0m\n\u001b[1;32m----> 1\u001b[0m \u001b[43mcontract1\u001b[49m\u001b[38;5;241;43m.\u001b[39;49m\u001b[43maddBetter\u001b[49m\u001b[43m(\u001b[49m\u001b[43mJohn\u001b[49m\u001b[38;5;241;43m.\u001b[39;49m\u001b[43mpublicKey\u001b[49m\u001b[43m,\u001b[49m\u001b[38;5;241;43m3\u001b[39;49m\u001b[43m,\u001b[49m\u001b[38;5;241;43m20\u001b[39;49m\u001b[43m,\u001b[49m\u001b[38;5;241;43m1\u001b[39;49m\u001b[43m)\u001b[49m\n\u001b[0;32m      2\u001b[0m contract1\u001b[38;5;241m.\u001b[39maddBetter(John\u001b[38;5;241m.\u001b[39mpublicKey,\u001b[38;5;241m3\u001b[39m,\u001b[38;5;241m20\u001b[39m,\u001b[38;5;241m1\u001b[39m)\n\u001b[0;32m      3\u001b[0m contract1\u001b[38;5;241m.\u001b[39maddBetter(John\u001b[38;5;241m.\u001b[39mpublicKey,\u001b[38;5;241m3\u001b[39m,\u001b[38;5;241m20\u001b[39m,\u001b[38;5;241m2\u001b[39m)\n",
      "\u001b[1;31mTypeError\u001b[0m: SmartContract.addBetter() missing 1 required positional argument: 'outcome'"
     ]
    }
   ],
   "source": [
    "contract1.addBetter(John.publicKey,3,20,1)\n",
    "contract1.addBetter(John.publicKey,3,20,1)\n",
    "contract1.addBetter(John.publicKey,3,20,2)\n",
    "contract1.display()\n",
    "contract1.logDump()"
   ]
  }
 ],
 "metadata": {
  "kernelspec": {
   "display_name": "blockchain",
   "language": "python",
   "name": "python3"
  },
  "language_info": {
   "codemirror_mode": {
    "name": "ipython",
    "version": 3
   },
   "file_extension": ".py",
   "mimetype": "text/x-python",
   "name": "python",
   "nbconvert_exporter": "python",
   "pygments_lexer": "ipython3",
   "version": "3.10.13"
  }
 },
 "nbformat": 4,
 "nbformat_minor": 2
}
